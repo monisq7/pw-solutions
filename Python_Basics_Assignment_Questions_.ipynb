{
  "nbformat": 4,
  "nbformat_minor": 0,
  "metadata": {
    "colab": {
      "provenance": []
    },
    "kernelspec": {
      "name": "python3",
      "display_name": "Python 3"
    },
    "language_info": {
      "name": "python"
    }
  },
  "cells": [
    {
      "cell_type": "markdown",
      "source": [
        "**Python Basics Questions**"
      ],
      "metadata": {
        "id": "itXXQA4c6SGE"
      }
    },
    {
      "cell_type": "markdown",
      "source": [
        "Q1  What is Python, and why is it popular"
      ],
      "metadata": {
        "id": "nKj1_-CL6X3L"
      }
    },
    {
      "cell_type": "markdown",
      "source": [
        "ANS1  Python is a high-level, interpreted, general-purpose programming language known for its simplicity and readability. Created by Guido van Rossum and first released in 1991, Python emphasizes code readability with its clean, English-like syntax.\n",
        "it is populr due to Beginner-Friendly , Strong Community & Support , High Demand in Jobs and high usage of it in Big Data & Cloud Computing\n",
        "\n",
        "\n",
        "\n"
      ],
      "metadata": {
        "id": "dgtr8bGn6lQF"
      }
    },
    {
      "cell_type": "markdown",
      "source": [
        "Q2 What is an interpreter in Python\n"
      ],
      "metadata": {
        "id": "Iu9WMhxb8LpA"
      }
    },
    {
      "cell_type": "markdown",
      "source": [
        "ANS2 An interpreter in Python is a program that executes Python code line by line, translating it into machine-readable instructions\n",
        "working of interpreter-\n",
        "First Reads the Python script.\n",
        "then Translates each line into bytecode\n",
        "then Executes the bytecode immediately"
      ],
      "metadata": {
        "id": "NwjOWtQS8mHh"
      }
    },
    {
      "cell_type": "markdown",
      "source": [
        "Q3 What are pre-defined keywords in Python\n"
      ],
      "metadata": {
        "id": "6I7XhoGu9BOE"
      }
    },
    {
      "cell_type": "markdown",
      "source": [
        "ANS3 Some of the keywords in python are\n",
        "False,\n",
        "True,\n",
        "None ,\n",
        "and,\n",
        "break,\n",
        "def,\n",
        "not ,\n",
        "if ,\n",
        "elif,\n",
        "else ,\n",
        "while ,\n",
        "from.\n"
      ],
      "metadata": {
        "id": "DOkXAuP_9MiX"
      }
    },
    {
      "cell_type": "markdown",
      "source": [
        "Q4 Can keywords be used as variable names\n"
      ],
      "metadata": {
        "id": "wZlYdmq6Ehco"
      }
    },
    {
      "cell_type": "markdown",
      "source": [
        "ANS4 No, Python does not allow keywords to be used as variable names, function names, or any other identifiers. If we try to use a keyword as a variable name, Python will raise a SyntaxError.\n",
        "\n",
        "\n",
        "\n"
      ],
      "metadata": {
        "id": "POWcZDAeE1e8"
      }
    },
    {
      "cell_type": "markdown",
      "source": [
        "Q5 What is mutability in Python\n"
      ],
      "metadata": {
        "id": "SGHscwl3FVQI"
      }
    },
    {
      "cell_type": "markdown",
      "source": [
        "ANS5 Mutability in Python refers to whether an object's internal state can be modified after its creation.\n",
        "Mutable Objects Can be changed after creation Examples: list, dict, set."
      ],
      "metadata": {
        "id": "ReD34oRzFgFA"
      }
    },
    {
      "cell_type": "markdown",
      "source": [
        "Q6 Why are lists mutable, but tuples are immutable"
      ],
      "metadata": {
        "id": "azXpTXCIGOyq"
      }
    },
    {
      "cell_type": "markdown",
      "source": [
        "ANS6 Lists are mutable because they are designed to store and manage collections of items that can change — you can add, remove, or modify elements after the list is created.\n",
        "\n",
        "Tuples are immutable because they are intended to be fixed collections — once created, their contents cannot be changed. This makes them faster, safer, and hashable, which is useful when you want to:\n",
        "\n",
        "Protect data from accidental changes.\n",
        "\n",
        "Use tuples as keys in dictionaries or elements of sets, which require immutable (hashable) types."
      ],
      "metadata": {
        "id": "JrsxHPqIG0eg"
      }
    },
    {
      "cell_type": "markdown",
      "source": [
        "Q7  What is the difference between “==” and “is” operators in Python\n"
      ],
      "metadata": {
        "id": "asNEEfsgHcOu"
      }
    },
    {
      "cell_type": "markdown",
      "source": [
        "ANS7  **== (Equality Operator)**\n",
        "Checks if two objects have the same value (content comparison).Used for comparing data (e.g., numbers, strings, lists).\n",
        "\n",
        "  **is (Identity Operator)**\n",
        "**bold text****bold text**Checks if two variables point to the exact same object in memory (reference comparison).\n",
        "\n",
        "Faster than == because it doesn’t compare values, just memory addresses.\n",
        "\n",
        "Commonly used with None, True, False, or checking object identity.\n",
        "\n"
      ],
      "metadata": {
        "id": "fJS2gPHGHifA"
      }
    },
    {
      "cell_type": "markdown",
      "source": [
        "Q8 What are logical operators in Python\n"
      ],
      "metadata": {
        "id": "9DUQVnJ7IdJz"
      }
    },
    {
      "cell_type": "markdown",
      "source": [
        "ANS8 Logical operators are used to combine multiple conditions and evaluate them as a single boolean expression (True or False). Python has three main logical operators:\n",
        "AND , OR , NOT ."
      ],
      "metadata": {
        "id": "HdQ5VBAbJJQp"
      }
    },
    {
      "cell_type": "markdown",
      "source": [
        "Q9 What is type casting in Python\n",
        "\n",
        "\n",
        "ANS9 Type casting (or type conversion) is the process of converting a variable from one data type to another. Python supports both implicit (automatic) and explicit (manual) type casting."
      ],
      "metadata": {
        "id": "stfTSUk8K1OG"
      }
    },
    {
      "cell_type": "markdown",
      "source": [
        "Q10  Implicit Type Casting (Automatic Conversion)\n",
        "ANSQ10 Done automatically by Python.\n",
        "\n",
        "Happens when Python safely converts one data type to another without losing data.\n",
        "\n",
        "You don’t need to write code for the conversion.\n",
        "\n",
        "\n",
        "Explicit Type Casting (Manual Conversion)\n",
        "Done manually by the programmer using functions like int(), float(), str(), etc.\n",
        "\n",
        "Used when you want to force a conversion, even if it’s not automatic.\n",
        "\n",
        "May lead to data loss (e.g., float to int)."
      ],
      "metadata": {
        "id": "ydRRKudBLR0N"
      }
    },
    {
      "cell_type": "markdown",
      "source": [
        "Q11 What is the purpose of conditional statements in Python\n",
        "\n",
        "\n",
        "ANS11 The purpose of conditional statements in Python is to control the flow of a program by allowing it to make decisions based on whether a condition is True or False.\n",
        "\n"
      ],
      "metadata": {
        "id": "_r7q9k76OS3k"
      }
    },
    {
      "cell_type": "markdown",
      "source": [
        "Q12 How does the elif statement work\n",
        "\n",
        "\n",
        "ANS12 The elif (short for \"else if\") statement allows you to check multiple conditions sequentially after an initial if. It’s used when you need to handle more than two possible outcomes."
      ],
      "metadata": {
        "id": "B0xoKOGvPVao"
      }
    },
    {
      "cell_type": "markdown",
      "source": [
        "Q13  What is the difference between for and while loops\n",
        "\n",
        "\n",
        "ANS13  **for** Loop Used\n",
        "When you know the number of iterations in advance (e.g., looping through a list, range, or fixed sequence).\n",
        "\n",
        "\n",
        "  **while** Loop Used\n",
        "When you don’t know how many times to loop (e.g., waiting for user input, game loops, or dynamic conditions).Runs as long as a condition is True"
      ],
      "metadata": {
        "id": "BF5UA90_QWou"
      }
    },
    {
      "cell_type": "markdown",
      "source": [
        "Q14  Describe a scenario where a while loop is more suitable than a for loop.\n",
        "\n",
        "\n",
        "ANS14 **while** loop is more suitable when you don’t know beforehand how many times you need to repeat an action — we want the loop to run as long as a certain condition is true.\n",
        "Suppose you're creating a password prompt that keeps asking the user to enter the correct password until they get it right"
      ],
      "metadata": {
        "id": "o3hdnGB0RZkL"
      }
    },
    {
      "cell_type": "markdown",
      "source": [
        "**Practical Questions**\n"
      ],
      "metadata": {
        "id": "FiOIRYP-T0-D"
      }
    },
    {
      "cell_type": "markdown",
      "source": [],
      "metadata": {
        "id": "j_U52n4xUAA8"
      }
    },
    {
      "cell_type": "code",
      "source": [
        "#Q1 Write a Python program to print \"Hello, World!\n",
        "print(\"Hello, World!\")"
      ],
      "metadata": {
        "colab": {
          "base_uri": "https://localhost:8080/"
        },
        "id": "IMCyNyVv8UDm",
        "outputId": "afdc2e06-1cfd-487d-a9c1-18622de8422e"
      },
      "execution_count": 1,
      "outputs": [
        {
          "output_type": "stream",
          "name": "stdout",
          "text": [
            "Hello, World!\n"
          ]
        }
      ]
    },
    {
      "cell_type": "code",
      "source": [
        "#Q2 Write a Python program that displays your name and age\n",
        "name = \"Monis\"\n",
        "age = 23\n",
        "print(\"Name:\", name)\n",
        "print(\"Age:\", age)"
      ],
      "metadata": {
        "colab": {
          "base_uri": "https://localhost:8080/"
        },
        "id": "wcS6LhilVvns",
        "outputId": "efeaf5aa-36c7-41e7-ea1d-e891c33922a5"
      },
      "execution_count": 2,
      "outputs": [
        {
          "output_type": "stream",
          "name": "stdout",
          "text": [
            "Name: Monis\n",
            "Age: 23\n"
          ]
        }
      ]
    },
    {
      "cell_type": "code",
      "source": [
        "#Q3 Write code to print all the pre-defined keywords in Python using the keyword library\n",
        "import keyword\n",
        "print(\"Python keywords are:\")\n",
        "print(keyword.kwlist)"
      ],
      "metadata": {
        "colab": {
          "base_uri": "https://localhost:8080/"
        },
        "id": "ML13FxVsWada",
        "outputId": "2548d2fd-8ab8-43d3-f5f6-daed62a438f3"
      },
      "execution_count": 4,
      "outputs": [
        {
          "output_type": "stream",
          "name": "stdout",
          "text": [
            "Python keywords are:\n",
            "['False', 'None', 'True', 'and', 'as', 'assert', 'async', 'await', 'break', 'class', 'continue', 'def', 'del', 'elif', 'else', 'except', 'finally', 'for', 'from', 'global', 'if', 'import', 'in', 'is', 'lambda', 'nonlocal', 'not', 'or', 'pass', 'raise', 'return', 'try', 'while', 'with', 'yield']\n"
          ]
        }
      ]
    },
    {
      "cell_type": "code",
      "source": [
        "#Q4 Write a program that checks if a given word is a Python keyword.\n",
        "import keyword\n",
        "\n",
        "word = input(\"Enter a word: \")\n",
        "if keyword.iskeyword(word):\n",
        "    print(f\"'{word}' is a Python keyword.\")\n",
        "else:\n",
        "    print(f\"'{word}' is NOT a Python keyword.\")\n"
      ],
      "metadata": {
        "colab": {
          "base_uri": "https://localhost:8080/"
        },
        "id": "gOikInpfXEmO",
        "outputId": "abd9e63e-44f3-4af8-92f5-142b79e3d629"
      },
      "execution_count": 5,
      "outputs": [
        {
          "output_type": "stream",
          "name": "stdout",
          "text": [
            "Enter a word: not\n",
            "'not' is a Python keyword.\n"
          ]
        }
      ]
    },
    {
      "cell_type": "code",
      "source": [
        "'''#Q5 Create a list and tuple in Python, and demonstrate how attempting to change an element works differently\n",
        "for each.'''\n",
        "\n",
        "my_list = [1, 2, 3]\n",
        "my_tuple = (1, 2, 3)\n",
        "\n",
        "my_list[0] = 100  # Allowed\n",
        "print(\"Modified list:\", my_list)\n",
        "\n",
        "# my_tuple[0] = 100  # Error: 'tuple' object does not support item assignment\n",
        "print(\"Tuple is immutable:\", my_tuple)\n",
        "\n"
      ],
      "metadata": {
        "colab": {
          "base_uri": "https://localhost:8080/"
        },
        "id": "iPOpUgDDXkt4",
        "outputId": "88bbe204-e0b2-49f6-f4b7-a1d5dba8d55f"
      },
      "execution_count": 20,
      "outputs": [
        {
          "output_type": "stream",
          "name": "stdout",
          "text": [
            "Modified list: [100, 2, 3]\n",
            "Tuple is immutable: (1, 2, 3)\n"
          ]
        }
      ]
    },
    {
      "cell_type": "code",
      "source": [
        "#6 Write a function to demonstrate the behavior of mutable and immutable arguments.\n",
        "# Function to modify immutable data type (int)\n",
        "def modify_immutable(x):\n",
        "    print(\"Inside function before change (immutable):\", x)\n",
        "    x = x + 10\n",
        "    print(\"Inside function after change (immutable):\", x)\n",
        "\n",
        "# Function to modify mutable data type (list)\n",
        "def modify_mutable(my_list):\n",
        "    print(\"Inside function before change (mutable):\", my_list)\n",
        "    my_list.append(100)\n",
        "    print(\"Inside function after change (mutable):\", my_list)\n",
        "\n",
        "# Test with immutable (int)\n",
        "a = 5\n",
        "print(\"Outside function before call (immutable):\", a)\n",
        "modify_immutable(a)\n",
        "print(\"Outside function after call (immutable):\", a)\n",
        "print(\"-\" * 50)\n",
        "\n",
        "# Test with mutable (list)\n",
        "b = [1, 2, 3]\n",
        "print(\"Outside function before call (mutable):\", b)\n",
        "modify_mutable(b)\n",
        "print(\"Outside function after call (mutable):\", b)\n"
      ],
      "metadata": {
        "colab": {
          "base_uri": "https://localhost:8080/"
        },
        "id": "u49q32qdYnhd",
        "outputId": "a5981955-c48a-4d83-e91d-fb1a62e911ae"
      },
      "execution_count": 21,
      "outputs": [
        {
          "output_type": "stream",
          "name": "stdout",
          "text": [
            "Outside function before call (immutable): 5\n",
            "Inside function before change (immutable): 5\n",
            "Inside function after change (immutable): 15\n",
            "Outside function after call (immutable): 5\n",
            "--------------------------------------------------\n",
            "Outside function before call (mutable): [1, 2, 3]\n",
            "Inside function before change (mutable): [1, 2, 3]\n",
            "Inside function after change (mutable): [1, 2, 3, 100]\n",
            "Outside function after call (mutable): [1, 2, 3, 100]\n"
          ]
        }
      ]
    },
    {
      "cell_type": "code",
      "source": [
        "#Q7 Write a program that performs basic arithmetic operations on two user-input numbers.\n",
        "a = float(input(\"Enter first number: \"))\n",
        "b = float(input(\"Enter second number: \"))\n",
        "\n",
        "print(\"Sum:\", a + b)\n",
        "print(\"Difference:\", a - b)\n",
        "print(\"Product:\", a * b)\n",
        "print(\"Quotient:\", a / b)"
      ],
      "metadata": {
        "colab": {
          "base_uri": "https://localhost:8080/"
        },
        "id": "376Xn-ucZGJz",
        "outputId": "864f1927-a404-43e3-e83b-329163f5ab99"
      },
      "execution_count": 7,
      "outputs": [
        {
          "output_type": "stream",
          "name": "stdout",
          "text": [
            "Enter first number: 2\n",
            "Enter second number: 4\n",
            "Sum: 6.0\n",
            "Difference: -2.0\n",
            "Product: 8.0\n",
            "Quotient: 0.5\n"
          ]
        }
      ]
    },
    {
      "cell_type": "code",
      "source": [
        "#Q8 Write a program to demonstrate the use of logical operators.\n",
        "x = 10\n",
        "y = 5\n",
        "\n",
        "print(x > 5 and y < 10)\n",
        "print(x < 5 or y < 10)\n",
        "print(not(x == y))\n",
        "\n"
      ],
      "metadata": {
        "colab": {
          "base_uri": "https://localhost:8080/"
        },
        "id": "3VvW8uvSZb8A",
        "outputId": "f9304f88-fce3-40a6-8965-473330835001"
      },
      "execution_count": 8,
      "outputs": [
        {
          "output_type": "stream",
          "name": "stdout",
          "text": [
            "True\n",
            "True\n",
            "True\n"
          ]
        }
      ]
    },
    {
      "cell_type": "code",
      "source": [
        "#Q9 Write a Python program to convert user input from string to integer, float, and boolean types\n",
        "# Convert to Integer\n",
        "int_input = input(\"Enter a number to convert to Integer: \")\n",
        "int_result = int(int_input)\n",
        "print(\"Integer value:\", int_result)\n",
        "\n",
        "# Convert to Float\n",
        "float_input = input(\"Enter a number to convert to Float: \")\n",
        "float_result = float(float_input)\n",
        "print(\"Float value:\", float_result)\n",
        "\n",
        "# Convert to Boolean\n",
        "bool_input = input(\"Enter a value to convert to Boolean: \")\n",
        "bool_result = bool(bool_input)\n",
        "print(\"Boolean value:\", bool_result)\n"
      ],
      "metadata": {
        "colab": {
          "base_uri": "https://localhost:8080/"
        },
        "id": "5QPmPIKHZti4",
        "outputId": "05940ffb-54d0-4e3d-dfb4-ea762311c9a7"
      },
      "execution_count": 11,
      "outputs": [
        {
          "output_type": "stream",
          "name": "stdout",
          "text": [
            "Enter a number to convert to Integer: 2\n",
            "Integer value: 2\n",
            "Enter a number to convert to Float: 3\n",
            "Float value: 3.0\n",
            "Enter a value to convert to Boolean: 4\n",
            "Boolean value: True\n"
          ]
        }
      ]
    },
    {
      "cell_type": "code",
      "source": [
        "#Q10 Write code to demonstrate type casting with list elements.\n",
        "str_list = [\"1\", \"2\", \"3\"]\n",
        "int_list = list(map(int, str_list))\n",
        "\n",
        "print(\"Original:\", str_list)\n",
        "print(\"Converted to integers:\", int_list)\n"
      ],
      "metadata": {
        "colab": {
          "base_uri": "https://localhost:8080/"
        },
        "id": "6_r6rOMJbTiC",
        "outputId": "d249ffd3-cd2d-4989-e3ad-193e1f16d660"
      },
      "execution_count": 12,
      "outputs": [
        {
          "output_type": "stream",
          "name": "stdout",
          "text": [
            "Original: ['1', '2', '3']\n",
            "Converted to integers: [1, 2, 3]\n"
          ]
        }
      ]
    },
    {
      "cell_type": "code",
      "source": [
        "#Q11 Write a program that checks if a number is positive, negative, or zero\n",
        "num = float(input(\"Enter a number: \"))\n",
        "\n",
        "if num > 0:\n",
        "    print(\"Positive\")\n",
        "elif num < 0:\n",
        "    print(\"Negative\")\n",
        "else:\n",
        "    print(\"Zero\")\n"
      ],
      "metadata": {
        "id": "BHKU0Sshc1YC",
        "outputId": "674e8eab-2357-404c-849b-68b3b842f296",
        "colab": {
          "base_uri": "https://localhost:8080/"
        }
      },
      "execution_count": 13,
      "outputs": [
        {
          "output_type": "stream",
          "name": "stdout",
          "text": [
            "Enter a number: 4\n",
            "Positive\n"
          ]
        }
      ]
    },
    {
      "cell_type": "code",
      "source": [
        "#Q12 Write a for loop to print numbers from 1 to 10.\n",
        "for i in range(1, 11):\n",
        "    print(i)\n"
      ],
      "metadata": {
        "id": "Ig7TqORpdP3J",
        "outputId": "720b6698-7261-4e00-bdab-c2d0233946db",
        "colab": {
          "base_uri": "https://localhost:8080/"
        }
      },
      "execution_count": 15,
      "outputs": [
        {
          "output_type": "stream",
          "name": "stdout",
          "text": [
            "1\n",
            "2\n",
            "3\n",
            "4\n",
            "5\n",
            "6\n",
            "7\n",
            "8\n",
            "9\n",
            "10\n"
          ]
        }
      ]
    },
    {
      "cell_type": "code",
      "source": [
        "#Q13 Write a Python program to find the sum of all even numbers between 1 and 50.\n",
        "total = 0\n",
        "for i in range(2, 51, 2):\n",
        "    total += i\n",
        "print(\"Sum of even numbers between 1 and 50:\", total)\n"
      ],
      "metadata": {
        "id": "AOzQ9JOudgRm",
        "outputId": "ac4ea1de-b734-4889-a575-9a9d5a4dad1d",
        "colab": {
          "base_uri": "https://localhost:8080/"
        }
      },
      "execution_count": 16,
      "outputs": [
        {
          "output_type": "stream",
          "name": "stdout",
          "text": [
            "Sum of even numbers between 1 and 50: 650\n"
          ]
        }
      ]
    },
    {
      "cell_type": "code",
      "source": [
        "#Q14 Write a program to reverse a string using a while loop.\n",
        "text = input(\"Enter a string: \")\n",
        "reversed_text = \"\"\n",
        "i = len(text) - 1\n",
        "\n",
        "while i >= 0:\n",
        "    reversed_text += text[i]\n",
        "    i -= 1\n",
        "\n",
        "print(\"Reversed string:\", reversed_text)\n"
      ],
      "metadata": {
        "id": "7qmEFjlkd-zr",
        "outputId": "71ea9348-cd6e-4b90-bbd5-af8acd91ae8e",
        "colab": {
          "base_uri": "https://localhost:8080/"
        }
      },
      "execution_count": 17,
      "outputs": [
        {
          "output_type": "stream",
          "name": "stdout",
          "text": [
            "Enter a string: monis\n",
            "Reversed string: sinom\n"
          ]
        }
      ]
    },
    {
      "cell_type": "code",
      "source": [
        "#Q15 Write a Python program to calculate the factorial of a number provided by the user using a while loop.\n",
        "# Take input from the user\n",
        "num = int(input(\"Enter a number: \"))\n",
        "\n",
        "# Initialize variables\n",
        "factorial = 1\n",
        "i = 1\n",
        "\n",
        "# Check if the number is negative\n",
        "if num < 0:\n",
        "    print(\"Factorial is not defined for negative numbers.\")\n",
        "else:\n",
        "    # Calculate factorial using while loop\n",
        "    while i <= num:\n",
        "        factorial *= i\n",
        "        i += 1\n",
        "    print(f\"Factorial of {num} is {factorial}\")\n"
      ],
      "metadata": {
        "id": "PBAwNLfqeQZA",
        "outputId": "6f67996b-513a-40fa-fa82-12b7da56f759",
        "colab": {
          "base_uri": "https://localhost:8080/"
        }
      },
      "execution_count": 19,
      "outputs": [
        {
          "output_type": "stream",
          "name": "stdout",
          "text": [
            "Enter a number: 22\n",
            "Factorial of 22 is 1124000727777607680000\n"
          ]
        }
      ]
    }
  ]
}