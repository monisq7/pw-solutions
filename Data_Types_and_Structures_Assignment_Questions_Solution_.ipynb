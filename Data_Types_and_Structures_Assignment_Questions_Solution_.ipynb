{
  "nbformat": 4,
  "nbformat_minor": 0,
  "metadata": {
    "colab": {
      "provenance": []
    },
    "kernelspec": {
      "name": "python3",
      "display_name": "Python 3"
    },
    "language_info": {
      "name": "python"
    }
  },
  "cells": [
    {
      "cell_type": "markdown",
      "source": [
        "# **Data Types and Structures Questions**"
      ],
      "metadata": {
        "id": "cEB23qngtt-a"
      }
    },
    {
      "cell_type": "markdown",
      "source": [
        "Q1 What are data structures, and why are they important\n",
        "\n",
        "Ans1 Data structures are specialized formats used to organize, store, and manage data efficiently in a computer so it can be accessed and modified effectively.\n",
        "\n",
        "they are important because\n",
        "They help in writing optimized code by minimizing memory use and speeding up data access and manipulation.\n",
        "\n",
        "Once a data structure is implemented, it can be reused in different programs and problems."
      ],
      "metadata": {
        "id": "1-qnuKLU-a3Q"
      }
    },
    {
      "cell_type": "markdown",
      "source": [
        "Q2 Explain the difference between mutable and immutable data types with examples\n",
        "\n",
        "Ans2 data types are categorized as either mutable or immutable based on whether their values can be changed after creation.\n",
        "\n",
        "Immutable Data Types\n",
        "Immutable objects cannot be modified after creation. If you try to change them, Python creates a new object instead.\n",
        "Examples:\n",
        "Integers (int)\n",
        "Floats (float)\n",
        "Strings (str)\n",
        "\n",
        "Mutable Data Types\n",
        "Mutable objects can be modified after creation without creating a new object.\n",
        "Examples:\n",
        "Lists (list)\n",
        "Dictionaries (dict)\n",
        "Sets (set)"
      ],
      "metadata": {
        "id": "daU_oiiPA_5L"
      }
    },
    {
      "cell_type": "markdown",
      "source": [
        "Q3 What are the main differences between lists and tuples in Python\n",
        "\n",
        "Ans4 Lists and tuples are both used to store collections of items in Python, but they have key differences. Lists are mutable, meaning they can be modified after creation—you can add, remove, or change elements. They are defined with square brackets ([ ]) and are ideal for dynamic data, like a shopping cart that changes frequently. Tuples, however, are immutable—once created, their elements cannot be altered. They use parentheses (( )) and are more memory-efficient, making them suitable for fixed data, such as coordinates or database records."
      ],
      "metadata": {
        "id": "VOv3KAsGCkc0"
      }
    },
    {
      "cell_type": "markdown",
      "source": [
        "Q4 Describe how dictionaries store data\n",
        "\n",
        "Ans4 Dictionaries (dict) in Python store data as key-value pairs, allowing for fast lookups, insertions, and deletions (average O(1) time complexity due to hashing)."
      ],
      "metadata": {
        "id": "73F1fVzZDqEF"
      }
    },
    {
      "cell_type": "markdown",
      "source": [
        "Q5 Why might you use a set instead of a list in Python\n",
        "\n",
        "Ans5 when we need Unique elements (no duplicates) or perform Mathematical set operations (unions, intersections).\n"
      ],
      "metadata": {
        "id": "GD2yiL1iEKAX"
      }
    },
    {
      "cell_type": "markdown",
      "source": [
        "Q6 What is a string in Python, and how is it different from a list\n",
        "\n",
        "Ans6 A string (str) in Python is a sequence of Unicode characters enclosed in quotes (single ' ', double \" \", or triple ''' '''/\"\"\" \"\"\"). Strings are immutable, meaning once created, their contents cannot be changed.\n",
        "\n",
        "In Python, strings (str) and lists (list) serve distinct purposes with key differences in their behavior and usage. Strings are immutable, meaning once created, their content cannot be modified—any operation that appears to change a string actually creates a new one. They are specifically designed for text processing and are enclosed in quotes (\" \", ' ', or ''' ''' for multi-line strings). In contrast, lists are mutable, allowing modifications like adding, removing, or changing elements after creation. Lists use square brackets ([ ]) and can store any data type, including integers, strings, or even other lists, making them ideal for dynamic data collections. While strings are more memory-efficient for text, lists offer greater flexibility at the cost of slightly higher memory usage. Choosing between them depends on whether you need to work with fixed text (strings) or modifiable collections (lists)."
      ],
      "metadata": {
        "id": "btPo3ixjE_K5"
      }
    },
    {
      "cell_type": "markdown",
      "source": [
        "Q7 How do tuples ensure data integrity in Python\n",
        "\n",
        "Ans7 Tuples guarantee data integrity through immutability - once created, their elements cannot be modified.\n",
        "\n",
        "This makes them ideal for:\n",
        "\n",
        "Storing constant values (like configuration settings)\n",
        "\n",
        "Protecting data from accidental modification\n"
      ],
      "metadata": {
        "id": "e168jGv2JvUJ"
      }
    },
    {
      "cell_type": "markdown",
      "source": [
        "Q8 What is a hash table, and how does it relate to dictionaries in Python\n",
        "\n",
        "Ans8 A hash table is a data structure that stores key-value pairs by using a hash function to compute an index (hash) for each key.\n",
        "\n",
        "In Python, dictionaries (dict) are implemented using hash tables, which is why they offer fast O(1) average-time complexity for insertions, deletions, and lookups.\n"
      ],
      "metadata": {
        "id": "AWtr5iOuLa3w"
      }
    },
    {
      "cell_type": "markdown",
      "source": [
        "Q9 Can lists contain different data types in Python\n",
        "\n",
        "Ans9 Yes, Python lists can contain different types\n",
        "\n",
        "mixed_list = [1, \"hello\", 3.14, True, [1,2,3]]\n"
      ],
      "metadata": {
        "id": "1M1hMSfoMWJh"
      }
    },
    {
      "cell_type": "markdown",
      "source": [
        "Q10 Explain why strings are immutable in Python\n",
        "\n",
        "Ans10  strings are immutable—meaning they cannot be changed after creation—for several key reasons. This design ensures memory efficiency through string interning (reusing identical strings), enables hashability (allowing strings as dictionary keys), and guarantees thread safety in concurrent operations. Immutability also enhances security by preventing unintended modifications and allows performance optimizations, as Python can safely reuse or cache strings."
      ],
      "metadata": {
        "id": "6GuFijfNNAN1"
      }
    },
    {
      "cell_type": "markdown",
      "source": [
        "Q11 What advantages do dictionaries offer over lists for certain tasks\n",
        "\n",
        "Ans11 Dictionaries offer significant advantages over lists for certain tasks, especially when data needs to be accessed using unique keys. They allow for faster lookups (average O(1) time) compared to lists (O(n)), and make the code more readable by using descriptive key-based access instead of numeric indexes. Dictionaries are ideal for storing structured data like records or objects, and make updates more efficient since values can be directly modified using keys without searching through the entire collectoin\n"
      ],
      "metadata": {
        "id": "29xyRdm1PFY0"
      }
    },
    {
      "cell_type": "markdown",
      "source": [
        "Q12 Describe a scenario where using a tuple would be preferable over a list\n",
        "\n",
        "Ans12 Tuples preferable over a list when\n",
        "\n",
        "Storing days of the week\n",
        "\n",
        "Database record fields\n",
        "\n",
        "Dictionary keys"
      ],
      "metadata": {
        "id": "ibKjhctfQL87"
      }
    },
    {
      "cell_type": "markdown",
      "source": [
        "Q13 How do sets handle duplicate values in Python\n",
        "\n",
        "Ans13 sets (set) are designed to store unique elements only—they automatically remove duplicates upon creation or insertion.\n",
        "\n",
        "numbers = {1, 2, 2, 3, 3}\n",
        "print(numbers)  # Output: {1, 2, 3} (duplicates removed)"
      ],
      "metadata": {
        "id": "U7lOXdExRKWq"
      }
    },
    {
      "cell_type": "markdown",
      "source": [
        "Q14 How does the “in” keyword work differently for lists and dictionaries\n",
        "\n",
        "Ans14 **in** with Lists\n",
        "Checks for value existence in the list.\n",
        "\n",
        "Time Complexity: O(n) (linear search - checks each element one by one).\n",
        "\n",
        "**in** with Dictionaries\n",
        "Checks for key existence (not values).\n",
        "\n",
        "Time Complexity: O(1) (average case) due to hash table lookups.\n",
        "\n",
        "\n",
        "For lists, in is value-based and slow (linear search).\n",
        "\n",
        "For dictionaries, in is key-based and fast (hash lookup).\n",
        "\n"
      ],
      "metadata": {
        "id": "1fQarvDISxvt"
      }
    },
    {
      "cell_type": "markdown",
      "source": [
        "Q15 Can you modify the elements of a tuple? Explain why or why not\n",
        "\n",
        "Ans15 You cannot modify tuple elements directly because:\n",
        "\n",
        "They're immutable for data integrity\n",
        "\n",
        "Memory optimization (fixed-size blocks)\n"
      ],
      "metadata": {
        "id": "9rJ4EJqVTuFV"
      }
    },
    {
      "cell_type": "markdown",
      "source": [
        "Q16 What is a nested dictionary, and give an example of its use case\n",
        "\n",
        "Ans16 A nested dictionary is a dictionary that contains other dictionaries as values. This allows you to create multi-level structured data, similar to JSON objects. It’s useful for representing hierarchical or complex relationships.\n",
        "\n",
        "employees = {\n",
        "    \"Alice\": {\n",
        "        \"age\": 30,\n",
        "        \"department\": \"Engineering\",\n",
        "        \"skills\": [\"Python\", \"SQL\"]\n",
        "    },\n",
        "    \"Bob\": {\n",
        "        \"age\": 25,\n",
        "        \"department\": \"Marketing\",\n",
        "        \"skills\": [\"SEO\", \"Content Writing\"]\n",
        "    }\n",
        "}"
      ],
      "metadata": {
        "id": "aW4059r8UgJW"
      }
    },
    {
      "cell_type": "markdown",
      "source": [
        "Q17 Describe the time complexity of accessing elements in a dictionary\n",
        "\n",
        "Ans17 In Python, accessing elements in a dictionary using a key has an average-case time complexity of O(1).\n",
        "\n",
        "Average Case: O(1) for access, insertion, deletion.\n",
        "\n",
        "Worst Case: O(n) (rare with good hash functions)."
      ],
      "metadata": {
        "id": "bkFfqgOjVgNv"
      }
    },
    {
      "cell_type": "markdown",
      "source": [
        "Q18 In what situations are lists preferred over dictionaries\n",
        "\n",
        "Ans18 Lists Preferred When:\n",
        "Need ordered collection\n",
        "\n",
        "Require index-based access\n",
        "\n",
        "Storing duplicates\n",
        "\n",
        "Memory efficiency for small collections\n",
        "\n",
        "Frequent slicing operations"
      ],
      "metadata": {
        "id": "rPGmClPYWjsd"
      }
    },
    {
      "cell_type": "markdown",
      "source": [
        "Q19 Why are dictionaries considered unordered, and how does that affect data retrieval\n",
        "\n",
        "Ans19 In Python, dictionaries (prior to Python 3.7) were considered unordered because they did not guarantee a consistent order of key-value pairs. This behavior changed in Python 3.7+, where dictionaries now preserve insertion order as an official feature (though they were technically ordered since Python 3.6 as an implementation detail).\n",
        "\n",
        "Why Were Dictionaries Considered Unordered?\n",
        "\n",
        "Hash Table Implementation: Dictionaries use a hash table for storage, where keys are hashed to determine their memory location. Before Python 3.6, this led to an arbitrary key order (not insertion order).\n",
        "\n",
        "Efficiency Focus: The primary goal was O(1) average-time lookups, not maintaining order. Tracking insertion order would require extra memory.\n",
        "\n",
        "\n"
      ],
      "metadata": {
        "id": "sTMFOkp-XJBZ"
      }
    },
    {
      "cell_type": "markdown",
      "source": [
        "Q20 Explain the difference between a list and a dictionary in terms of data retrieval.\n",
        "\n",
        "Ans20 List:\n",
        "\n",
        "Ordered collection of elements (can contain duplicates).\n",
        "\n",
        "Accessed by index (integer position, starting at 0).\n",
        "\n",
        "Dictionary:\n",
        "\n",
        "Unordered (pre-Python 3.6) / ordered (Python 3.7+) collection of key-value pairs.\n",
        "\n",
        "Accessed by unique keys (any hashable type: strings, numbers, tuples).\n",
        "\n",
        " Key Differences in Retrieval\n",
        "Lists:\n",
        "\n",
        "Fast for accessing elements by position (O(1)).\n",
        "\n",
        "Slow for searching a value (O(n) linear search).'\n",
        "\n",
        "Dictionaries:\n",
        "\n",
        "Optimized for key-based lookups (O(1) average time).\n",
        "\n",
        "No direct index access (keys can be strings, numbers, etc.).\n",
        "\n"
      ],
      "metadata": {
        "id": "EfpEymd2kX82"
      }
    },
    {
      "cell_type": "markdown",
      "source": [
        "# **Practical Questions**"
      ],
      "metadata": {
        "id": "TxI2MDApPKtI"
      }
    },
    {
      "cell_type": "code",
      "source": [
        "# Q1 Write a code to create a string with your name and print it\n",
        "\n",
        "my_name = \"Monis khan\"\n",
        "print(my_name)"
      ],
      "metadata": {
        "colab": {
          "base_uri": "https://localhost:8080/"
        },
        "id": "HmQaa3uUEA6R",
        "outputId": "20085128-04ed-4295-e6ac-e87a7aa8340c"
      },
      "execution_count": 2,
      "outputs": [
        {
          "output_type": "stream",
          "name": "stdout",
          "text": [
            "Monis khan\n"
          ]
        }
      ]
    },
    {
      "cell_type": "code",
      "source": [
        "# Q2 Write a code to find the length of the string \"Hello World\"\n",
        "\n",
        "my_string = \"Hello World\"\n",
        "string_length = len(my_string)\n",
        "print(\"The length of the string is:\", string_length)\n"
      ],
      "metadata": {
        "colab": {
          "base_uri": "https://localhost:8080/"
        },
        "id": "wgt2KNLtP60D",
        "outputId": "59af7df5-4c68-400e-d90c-6cad68cdb477"
      },
      "execution_count": 1,
      "outputs": [
        {
          "output_type": "stream",
          "name": "stdout",
          "text": [
            "The length of the string is: 11\n"
          ]
        }
      ]
    },
    {
      "cell_type": "code",
      "source": [
        "# Q3 Write a code to slice the first 3 characters from the string \"Python Programming\"\n",
        "\n",
        "text = \"Python Programming\"\n",
        "first_three = text[0:3]\n",
        "print(first_three)"
      ],
      "metadata": {
        "colab": {
          "base_uri": "https://localhost:8080/"
        },
        "id": "FLtT93RykgFu",
        "outputId": "40e65d26-dd9d-4dcb-fc2f-733889c39939"
      },
      "execution_count": 3,
      "outputs": [
        {
          "output_type": "stream",
          "name": "stdout",
          "text": [
            "Pyt\n"
          ]
        }
      ]
    },
    {
      "cell_type": "code",
      "source": [
        "# Q4 Write a code to convert the string \"hello\" to uppercase\n",
        "\n",
        "text = \"hello\"\n",
        "uppercase_text = text.upper()\n",
        "print(uppercase_text)"
      ],
      "metadata": {
        "colab": {
          "base_uri": "https://localhost:8080/"
        },
        "id": "10RukBYglE1s",
        "outputId": "03e7074b-8681-446c-bee0-07c290d9c77d"
      },
      "execution_count": 4,
      "outputs": [
        {
          "output_type": "stream",
          "name": "stdout",
          "text": [
            "HELLO\n"
          ]
        }
      ]
    },
    {
      "cell_type": "code",
      "source": [
        "# Q5 Write a code to replace the word \"apple\" with \"orange\" in the string \"I like apple\"\n",
        "\n",
        "text = \"I like apple\"\n",
        "new_text = text.replace(\"apple\", \"orange\")\n",
        "print(new_text)"
      ],
      "metadata": {
        "colab": {
          "base_uri": "https://localhost:8080/"
        },
        "id": "JKKyVgIkli9y",
        "outputId": "36103b58-96af-44de-9e32-f3b5d44596e2"
      },
      "execution_count": 6,
      "outputs": [
        {
          "output_type": "stream",
          "name": "stdout",
          "text": [
            "I like orange\n"
          ]
        }
      ]
    },
    {
      "cell_type": "code",
      "source": [
        "# Q6 Write a code to create a list with numbers 1 to 5 and print it\n",
        "\n",
        "numbers = [1, 2, 3, 4, 5]\n",
        "print(numbers)"
      ],
      "metadata": {
        "colab": {
          "base_uri": "https://localhost:8080/"
        },
        "id": "Fc5jfVQTl72W",
        "outputId": "8730a28a-a640-491f-8bc6-e47c64a50f13"
      },
      "execution_count": 7,
      "outputs": [
        {
          "output_type": "stream",
          "name": "stdout",
          "text": [
            "[1, 2, 3, 4, 5]\n"
          ]
        }
      ]
    },
    {
      "cell_type": "code",
      "source": [
        "# Q7 Write a code to append the number 10 to the list [1, 2, 3, 4]\n",
        "\n",
        "my_list = [1, 2, 3, 4]\n",
        "my_list.append(10)\n",
        "print(my_list)"
      ],
      "metadata": {
        "colab": {
          "base_uri": "https://localhost:8080/"
        },
        "id": "-dwkdbIgmZqF",
        "outputId": "5ed75b57-84ce-452b-caf2-ee481f014b76"
      },
      "execution_count": 8,
      "outputs": [
        {
          "output_type": "stream",
          "name": "stdout",
          "text": [
            "[1, 2, 3, 4, 10]\n"
          ]
        }
      ]
    },
    {
      "cell_type": "code",
      "source": [
        "# Q8 Write a code to remove the number 3 from the list [1, 2, 3, 4, 5]\n",
        "\n",
        "my_list = [1, 2, 3, 4, 5]\n",
        "my_list.remove(3)\n",
        "print(my_list)"
      ],
      "metadata": {
        "colab": {
          "base_uri": "https://localhost:8080/"
        },
        "id": "lz_LwUPmmpHP",
        "outputId": "a0b7b81e-6b16-43fd-ef48-464c33018929"
      },
      "execution_count": 9,
      "outputs": [
        {
          "output_type": "stream",
          "name": "stdout",
          "text": [
            "[1, 2, 4, 5]\n"
          ]
        }
      ]
    },
    {
      "cell_type": "code",
      "source": [
        "# Q9 Write a code to access the second element in the list ['a', 'b', 'c', 'd']\n",
        "\n",
        "my_list = ['a', 'b', 'c', 'd']\n",
        "second_element = my_list[1]\n",
        "print(second_element)"
      ],
      "metadata": {
        "colab": {
          "base_uri": "https://localhost:8080/"
        },
        "id": "_SVo2S28m9t7",
        "outputId": "d17d5067-e62e-41b7-fee5-85daaf7bd49e"
      },
      "execution_count": 10,
      "outputs": [
        {
          "output_type": "stream",
          "name": "stdout",
          "text": [
            "b\n"
          ]
        }
      ]
    },
    {
      "cell_type": "code",
      "source": [
        "# Q10 Write a code to reverse the list [10, 20, 30, 40, 50]\n",
        "\n",
        "my_list = [10, 20, 30, 40, 50]\n",
        "reversed_list = my_list[::-1]\n",
        "print(reversed_list)"
      ],
      "metadata": {
        "colab": {
          "base_uri": "https://localhost:8080/"
        },
        "id": "DA2aQpjqnI9l",
        "outputId": "86616f1b-0a25-49b4-dde5-09e08f64350f"
      },
      "execution_count": 11,
      "outputs": [
        {
          "output_type": "stream",
          "name": "stdout",
          "text": [
            "[50, 40, 30, 20, 10]\n"
          ]
        }
      ]
    },
    {
      "cell_type": "code",
      "source": [
        "# Q11 Write a code to create a tuple with the elements 100, 200, 300 and print it\n",
        "\n",
        "my_tuple = (100, 200, 300)\n",
        "print(my_tuple)"
      ],
      "metadata": {
        "colab": {
          "base_uri": "https://localhost:8080/"
        },
        "id": "cveRAsDOnywV",
        "outputId": "8e66ff45-fbba-4a90-d7ba-15f98d80a06d"
      },
      "execution_count": 12,
      "outputs": [
        {
          "output_type": "stream",
          "name": "stdout",
          "text": [
            "(100, 200, 300)\n"
          ]
        }
      ]
    },
    {
      "cell_type": "code",
      "source": [
        "# Q12 Write a code to access the second-to-last element of the tuple ('red', 'green', 'blue', 'yellow')\n",
        "\n",
        "my_tuple = ('red', 'green', 'blue', 'yellow')\n",
        "second_to_last_element = my_tuple[-2]\n",
        "print(second_to_last_element)"
      ],
      "metadata": {
        "colab": {
          "base_uri": "https://localhost:8080/"
        },
        "id": "E7X7qpcboDZF",
        "outputId": "d317f3fd-9055-4209-b2f0-7081088c8c47"
      },
      "execution_count": 13,
      "outputs": [
        {
          "output_type": "stream",
          "name": "stdout",
          "text": [
            "blue\n"
          ]
        }
      ]
    },
    {
      "cell_type": "code",
      "source": [
        "# Q13 Write a code to find the minimum number in the tuple (10, 20, 5, 15)\n",
        "\n",
        "my_tuple = (10, 20, 5, 15)\n",
        "minimum_number = min(my_tuple)\n",
        "print(minimum_number)"
      ],
      "metadata": {
        "colab": {
          "base_uri": "https://localhost:8080/"
        },
        "id": "tENuDtOzoRtO",
        "outputId": "fc571ee9-9ca3-4570-b2fc-fe26e6016827"
      },
      "execution_count": 15,
      "outputs": [
        {
          "output_type": "stream",
          "name": "stdout",
          "text": [
            "5\n"
          ]
        }
      ]
    },
    {
      "cell_type": "code",
      "source": [
        "# Q14 Write a code to find the index of the element \"cat\" in the tuple ('dog', 'cat', 'rabbit')\n",
        "\n",
        "my_tuple = ('dog', 'cat', 'rabbit')\n",
        "index_of_cat = my_tuple.index('cat')\n",
        "print(index_of_cat)"
      ],
      "metadata": {
        "colab": {
          "base_uri": "https://localhost:8080/"
        },
        "id": "YuxeWUC3ogw8",
        "outputId": "e1ee2647-953a-4701-b7a7-fadb8b517441"
      },
      "execution_count": 16,
      "outputs": [
        {
          "output_type": "stream",
          "name": "stdout",
          "text": [
            "1\n"
          ]
        }
      ]
    },
    {
      "cell_type": "code",
      "source": [
        "# Q15 Write a code to create a tuple containing three different fruits and check if \"kiwi\" is in it\n",
        "\n",
        "fruits_tuple = (\"apple\", \"banana\", \"cherry\")\n",
        "is_kiwi_in_tuple = \"kiwi\" in fruits_tuple\n",
        "print(is_kiwi_in_tuple)"
      ],
      "metadata": {
        "colab": {
          "base_uri": "https://localhost:8080/"
        },
        "id": "ge7ZN9izou1x",
        "outputId": "b83c673e-0828-4b0d-8fcb-9a25d64d8567"
      },
      "execution_count": 17,
      "outputs": [
        {
          "output_type": "stream",
          "name": "stdout",
          "text": [
            "False\n"
          ]
        }
      ]
    },
    {
      "cell_type": "code",
      "source": [
        "# Q16 Write a code to create a set with the elements 'a', 'b', 'c' and print it\n",
        "\n",
        "my_set = {'a', 'b', 'c'}\n",
        "print(my_set)"
      ],
      "metadata": {
        "colab": {
          "base_uri": "https://localhost:8080/"
        },
        "id": "cPwC1694o9ye",
        "outputId": "f40528f9-eda7-4e38-d1ff-167b927056ba"
      },
      "execution_count": 18,
      "outputs": [
        {
          "output_type": "stream",
          "name": "stdout",
          "text": [
            "{'b', 'c', 'a'}\n"
          ]
        }
      ]
    },
    {
      "cell_type": "code",
      "source": [
        "# Q17 Write a code to clear all elements from the set {1, 2, 3, 4, 5}\n",
        "\n",
        "my_set = {1, 2, 3, 4, 5}\n",
        "my_set.clear()\n",
        "print(my_set)"
      ],
      "metadata": {
        "colab": {
          "base_uri": "https://localhost:8080/"
        },
        "id": "BSoykAcKpLjL",
        "outputId": "b5b22f6d-12bf-4597-fd28-41c4ebcc4b7a"
      },
      "execution_count": 19,
      "outputs": [
        {
          "output_type": "stream",
          "name": "stdout",
          "text": [
            "set()\n"
          ]
        }
      ]
    },
    {
      "cell_type": "code",
      "source": [
        "# Q18 Write a code to remove the element 4 from the set {1, 2, 3, 4}\n",
        "\n",
        "my_set = {1, 2, 3, 4}\n",
        "my_set.remove(4)\n",
        "print(my_set)\n"
      ],
      "metadata": {
        "colab": {
          "base_uri": "https://localhost:8080/"
        },
        "id": "ukmHX6zypWAc",
        "outputId": "e719b34c-84b0-4248-bd18-612c3668de0b"
      },
      "execution_count": 21,
      "outputs": [
        {
          "output_type": "stream",
          "name": "stdout",
          "text": [
            "{1, 2, 3}\n"
          ]
        }
      ]
    },
    {
      "cell_type": "code",
      "source": [
        "# Q19 Write a code to find the union of two sets {1, 2, 3} and {3, 4, 5}\n",
        "\n",
        "set1 = {1, 2, 3}\n",
        "set2 = {3, 4, 5}\n",
        "union_set = set1.union(set2)\n",
        "print(union_set)"
      ],
      "metadata": {
        "colab": {
          "base_uri": "https://localhost:8080/"
        },
        "id": "uL66pfgIpk7X",
        "outputId": "341ee199-817e-4281-c53a-8ab8740c05af"
      },
      "execution_count": 22,
      "outputs": [
        {
          "output_type": "stream",
          "name": "stdout",
          "text": [
            "{1, 2, 3, 4, 5}\n"
          ]
        }
      ]
    },
    {
      "cell_type": "code",
      "source": [
        "# Q20 Write a code to find the intersection of two sets {1, 2, 3} and {2, 3, 4}\n",
        "\n",
        "set1 = {1, 2, 3}\n",
        "set2 = {2, 3, 4}\n",
        "intersection_set = set1.intersection(set2)\n",
        "print(intersection_set)"
      ],
      "metadata": {
        "colab": {
          "base_uri": "https://localhost:8080/"
        },
        "id": "ABM9IVb8pwON",
        "outputId": "7c9b9d55-a928-481a-eb09-3162337cb6c9"
      },
      "execution_count": 23,
      "outputs": [
        {
          "output_type": "stream",
          "name": "stdout",
          "text": [
            "{2, 3}\n"
          ]
        }
      ]
    },
    {
      "cell_type": "code",
      "source": [
        "# Q21 Write a code to create a dictionary with the keys \"name\", \"age\", and \"city\", and print it\n",
        "\n",
        "my_dict = {\n",
        "    \"name\": \"John\",\n",
        "    \"age\": 30,\n",
        "    \"city\": \"New York\"\n",
        "}\n",
        "print(my_dict)"
      ],
      "metadata": {
        "colab": {
          "base_uri": "https://localhost:8080/"
        },
        "id": "T0NWjUpYp9yj",
        "outputId": "729c6a7b-734e-4432-e5e7-b1ff6f802171"
      },
      "execution_count": 24,
      "outputs": [
        {
          "output_type": "stream",
          "name": "stdout",
          "text": [
            "{'name': 'John', 'age': 30, 'city': 'New York'}\n"
          ]
        }
      ]
    },
    {
      "cell_type": "code",
      "source": [
        "# Q22 Write a code to add a new key-value pair \"country\": \"USA\" to the dictionary {'name': 'John', 'age': 25}\n",
        "\n",
        "my_dict = {'name': 'John', 'age': 25}\n",
        "my_dict['country'] = 'USA'\n",
        "print(my_dict)"
      ],
      "metadata": {
        "colab": {
          "base_uri": "https://localhost:8080/"
        },
        "id": "yeFntIJjqLL6",
        "outputId": "86fb2c55-7bae-4e58-a9e2-9ad568795c85"
      },
      "execution_count": 25,
      "outputs": [
        {
          "output_type": "stream",
          "name": "stdout",
          "text": [
            "{'name': 'John', 'age': 25, 'country': 'USA'}\n"
          ]
        }
      ]
    },
    {
      "cell_type": "code",
      "source": [
        "# Q23 Write a code to access the value associated with the key \"name\" in the dictionary {'name': 'Alice', 'age': 30}\n",
        "\n",
        "my_dict = {'name': 'Alice', 'age': 30}\n",
        "name_value = my_dict['name']\n",
        "print(name_value)"
      ],
      "metadata": {
        "colab": {
          "base_uri": "https://localhost:8080/"
        },
        "id": "EcII6fOlqadC",
        "outputId": "cc474f4f-a6de-4fa1-b2ed-5c91a50f42b6"
      },
      "execution_count": 26,
      "outputs": [
        {
          "output_type": "stream",
          "name": "stdout",
          "text": [
            "Alice\n"
          ]
        }
      ]
    },
    {
      "cell_type": "code",
      "source": [
        "# Q24 Write a code to remove the key \"age\" from the dictionary {'name': 'Bob', 'age': 22, 'city': 'New York'}\n",
        "\n",
        "my_dict = {'name': 'Bob', 'age': 22, 'city': 'New York'}\n",
        "del my_dict['age']\n",
        "print(my_dict)"
      ],
      "metadata": {
        "colab": {
          "base_uri": "https://localhost:8080/"
        },
        "id": "4yL-L9iBqnDX",
        "outputId": "1a5430aa-58f3-442d-9a8d-8e1f15d7ed10"
      },
      "execution_count": 27,
      "outputs": [
        {
          "output_type": "stream",
          "name": "stdout",
          "text": [
            "{'name': 'Bob', 'city': 'New York'}\n"
          ]
        }
      ]
    },
    {
      "cell_type": "code",
      "source": [
        "# Q25 Write a code to check if the key \"city\" exists in the dictionary {'name': 'Alice', 'city': 'Paris'}\n",
        "\n",
        "my_dict = {'name': 'Alice', 'city': 'Paris'}\n",
        "city_exists = 'city' in my_dict\n",
        "print(city_exists)"
      ],
      "metadata": {
        "colab": {
          "base_uri": "https://localhost:8080/"
        },
        "id": "EX45Aeo_qy_j",
        "outputId": "f6a3bdc1-96c5-4c7f-b905-65b1d3ee5fb9"
      },
      "execution_count": 28,
      "outputs": [
        {
          "output_type": "stream",
          "name": "stdout",
          "text": [
            "True\n"
          ]
        }
      ]
    },
    {
      "cell_type": "code",
      "source": [
        "# Q26 Write a code to create a list, a tuple, and a dictionary, and print them all\n",
        "\n",
        "my_list = [1, 2, 3, 'apple', 'banana']\n",
        "print(\"List:\", my_list)\n",
        "\n",
        "my_tuple = (10, 20, 30, 'red', 'blue')\n",
        "print(\"Tuple:\", my_tuple)\n",
        "\n",
        "my_dict = {'name': 'John', 'age': 25, 'city': 'New York'}\n",
        "print(\"Dictionary:\", my_dict)"
      ],
      "metadata": {
        "colab": {
          "base_uri": "https://localhost:8080/"
        },
        "id": "w_XW6ShUrAke",
        "outputId": "516cd5a8-2af6-4a2a-d1c0-10174ae67df9"
      },
      "execution_count": 30,
      "outputs": [
        {
          "output_type": "stream",
          "name": "stdout",
          "text": [
            "List: [1, 2, 3, 'apple', 'banana']\n",
            "Tuple: (10, 20, 30, 'red', 'blue')\n",
            "Dictionary: {'name': 'John', 'age': 25, 'city': 'New York'}\n"
          ]
        }
      ]
    },
    {
      "cell_type": "code",
      "source": [
        "# Q27 Write a code to create a list of 5 random numbers between 1 and 100, sort it in ascending order, and print them\n",
        "\n",
        "import random\n",
        "\n",
        "random_numbers = [random.randint(1, 100) for _ in range(5)]\n",
        "\n",
        "random_numbers.sort()\n",
        "\n",
        "print(\"Sorted random numbers:\", random_numbers)"
      ],
      "metadata": {
        "colab": {
          "base_uri": "https://localhost:8080/"
        },
        "id": "ztkRCm3-rQl0",
        "outputId": "9ca50e98-7ed3-409e-e4c7-12c184926a9b"
      },
      "execution_count": 32,
      "outputs": [
        {
          "output_type": "stream",
          "name": "stdout",
          "text": [
            "Sorted random numbers: [24, 34, 45, 77, 88]\n"
          ]
        }
      ]
    },
    {
      "cell_type": "code",
      "source": [
        "# Q28 Write a code to create a list with strings and print the element at the third index\n",
        "\n",
        "my_list = [\"apple\", \"banana\", \"cherry\", \"date\", \"elderberry\"]\n",
        "print(\"Element at index 3:\", my_list[3])"
      ],
      "metadata": {
        "colab": {
          "base_uri": "https://localhost:8080/"
        },
        "id": "gtapxGPWr66M",
        "outputId": "310c0edd-2c8b-4521-befc-8811d36fca2d"
      },
      "execution_count": 33,
      "outputs": [
        {
          "output_type": "stream",
          "name": "stdout",
          "text": [
            "Element at index 3: date\n"
          ]
        }
      ]
    },
    {
      "cell_type": "code",
      "source": [
        "# Q29 Write a code to combine two dictionaries into one and print the result\n",
        "\n",
        "dict1 = {'a': 1, 'b': 2}\n",
        "dict2 = {'c': 3, 'd': 4}\n",
        "\n",
        "combined_dict = {**dict1, **dict2}\n",
        "\n",
        "print(\"Combined dictionary:\", combined_dict)\n",
        "\n"
      ],
      "metadata": {
        "colab": {
          "base_uri": "https://localhost:8080/"
        },
        "id": "Fa_kcbnFslXZ",
        "outputId": "a84fc3be-8c36-4624-e888-072082cd9d84"
      },
      "execution_count": 34,
      "outputs": [
        {
          "output_type": "stream",
          "name": "stdout",
          "text": [
            "Combined dictionary: {'a': 1, 'b': 2, 'c': 3, 'd': 4}\n"
          ]
        }
      ]
    },
    {
      "cell_type": "code",
      "source": [
        "# Q30 Write a code to convert a list of strings into a set.\n",
        "\n",
        "my_list = [\"apple\", \"banana\", \"cherry\", \"apple\", \"banana\"]\n",
        "my_set = set(my_list)\n",
        "print(\"Set from list:\", my_set)"
      ],
      "metadata": {
        "colab": {
          "base_uri": "https://localhost:8080/"
        },
        "id": "QBWbZVgZszEU",
        "outputId": "43e86aeb-ec5f-493a-f169-9251969bc4af"
      },
      "execution_count": 35,
      "outputs": [
        {
          "output_type": "stream",
          "name": "stdout",
          "text": [
            "Set from list: {'cherry', 'apple', 'banana'}\n"
          ]
        }
      ]
    }
  ]
}