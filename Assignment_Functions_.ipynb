{
  "nbformat": 4,
  "nbformat_minor": 0,
  "metadata": {
    "colab": {
      "provenance": []
    },
    "kernelspec": {
      "name": "python3",
      "display_name": "Python 3"
    },
    "language_info": {
      "name": "python"
    }
  },
  "cells": [
    {
      "cell_type": "markdown",
      "source": [
        "Theory Questions"
      ],
      "metadata": {
        "id": "6bDoL6-U2SjK"
      }
    },
    {
      "cell_type": "markdown",
      "source": [
        "Q1. What is the difference between a function and a method in Python?\n",
        "\n",
        "Ans1 the difference between a function and a method in Python are\n",
        "\n",
        "**Function**\n",
        "\n",
        "A function is a block of reusable code that performs a specific task.\n",
        "\n",
        "It is defined using the def keyword (or lambda for anonymous functions).\n",
        "\n",
        "It can be called independently by its name.\n",
        "\n",
        "It may or may not take arguments and return a value.\n",
        "\n",
        "It exists independently of any object or class.\n",
        "\n",
        "Example\n",
        "\n",
        "def greet(name):\n",
        "    return f\"Hello, {name}!\"\n",
        "\n",
        "print(greet(\"Ajay\") # Output: Hello, Ajay!\n",
        "\n",
        "**Method**\n",
        "\n",
        "A method is a function that is associated with an object (i.e., defined inside a class).\n",
        "\n",
        "It is called on an instance of a class (object) and can access or modify the object's data.\n",
        "\n",
        "The first parameter of a method is conventionally self (for instance methods), referring to the object itself.\n",
        "\n",
        "Methods are invoked using dot notation (object.method()).\n",
        "\n",
        "Example\n",
        "\n",
        "class Person:\n",
        "    def __init__(self, name):\n",
        "        self.name = name\n",
        "\n",
        "    def greet(self):    # This is a method\n",
        "        return f\"Hello, {self.name}!\"\n",
        "\n",
        "person = Person(\"Ajay\")\n",
        "print(person.greet())  # Output: Hello, Ajay!"
      ],
      "metadata": {
        "id": "3QgHdZ3a2jv5"
      }
    },
    {
      "cell_type": "markdown",
      "source": [
        "Q2.Explain the concept of function arguments and parameters in Python.\n",
        "\n",
        "Ans2 In Python, parameters and arguments are fundamental concepts when working with functions. They allow you to pass data into functions to make them dynamic and reusable.\n",
        "\n",
        "1. Parameters\n",
        "Parameters are the variables listed inside the parentheses in the function definition.\n",
        "\n",
        "They act as placeholders for the values that will be passed to the function when it is called.\n",
        "\n",
        "Example:\n",
        "\n",
        "def greet(name, message):  # 'name' and 'message' are parameters\n",
        "    print(f\"{message}, {name}!\")\n",
        "\n",
        "2. Arguments\n",
        "Arguments are the actual values passed to the function when it is called.\n",
        "\n",
        "They replace the parameters when the function executes.\n",
        "\n",
        "Example:\n",
        "\n",
        "greet(\"Alice\", \"Hello\")  # \"Alice\" and \"Hello\" are arguments\n",
        "\n"
      ],
      "metadata": {
        "id": "Zm81lN2V5mym"
      }
    },
    {
      "cell_type": "markdown",
      "source": [
        "Q3 What are the different ways to define and call a function in Python?\n",
        "\n",
        "Ans3  \n",
        "**Function in Python**\n",
        "\n",
        "Standard Function Definition (using def):\n",
        "def greet(name):\n",
        "    return f\"Hello, {name}!\"\n",
        "\n",
        "Lambda Function (Anonymous Function)\n",
        "\n",
        "square = lambda x: x * x\n",
        "\n",
        "Nested Function (Function inside another function):\n",
        "\n",
        "def outer():\n",
        "    def inner():\n",
        "        print(\"Inner function\")\n",
        "    inner()\n",
        "\n",
        "Function with Default Arguments:\n",
        "\n",
        "def welcome(name=\"Guest\"):\n",
        "    return f\"Welcome, {name}\"\n",
        "\n",
        "**Calling a Function in Python**\n",
        "Direct Call:\n",
        "\n",
        "greet(\"Monis\")\n",
        "\n",
        "Call with Positional and Keyword Arguments:\n",
        "\n",
        "welcome(name=\"Adam\")\n",
        "\n",
        "Recursively Calling a Function (e.g., Factorial):\n",
        "\n",
        "def factorial(n):\n",
        "    if n == 1:\n",
        "        return 1\n",
        "    return n * factorial(n - 1)\n",
        "\n",
        "Passing Function as an Argument:\n",
        "\n",
        "def operate(func, x, y):\n",
        "    return func(x, y)\n",
        "\n",
        "def add(a, b):\n",
        "    return a + b\n",
        "\n",
        "operate(add, 5, 3)"
      ],
      "metadata": {
        "id": "SywM46AKS4vb"
      }
    },
    {
      "cell_type": "markdown",
      "source": [
        "\n",
        "Q4 What is the purpose of the `return` statement in a Python function?\n",
        "\n",
        "4 In Python, the return statement is used in a function to\n",
        "\n",
        "**Exit the function**  When a return statement is executed, the function stops running immediately, and control returns to the caller.\n",
        "\n",
        "**Send a value **(or values) back to the caller - The return statement can pass data (a single value, a tuple, a list, etc.) back to where the function was called.\n",
        "\n",
        "Examples:\n",
        "\n",
        "**Returning a value**\n",
        "def add(a, b):\n",
        "    return a + b  # Returns the sum of a and b\n",
        "\n",
        "result = add(3, 5)\n",
        "print(result)  # Output: 8\n",
        "\n",
        "**Exiting early without a value (returns None)**\n",
        "\n",
        "def greet(name):\n",
        "    if not name:\n",
        "        return  # Exits early, returning None\n",
        "    print(f\"Hello, {name}!\")\n",
        "\n",
        "greet(\"\")  # No output, returns None"
      ],
      "metadata": {
        "id": "BwYpWOtWWqRh"
      }
    },
    {
      "cell_type": "markdown",
      "source": [
        "5 What are iterators in Python and how do they differ from iterables?\n",
        "\n",
        "5 **Iterable**:\n",
        "An iterable is any Python object capable of returning its elements one at a time (e.g., lists, tuples, strings, dictionaries). It implements the __iter__() method, which returns an iterator.\n",
        "\n",
        "**Iterator**:\n",
        "An iterator is an object that implements __iter__() (returns itself) and __next__(), which fetches the next item. Once exhausted, it raises StopIteration.\n",
        "\n",
        "\n"
      ],
      "metadata": {
        "id": "0FFRZMQqrHbV"
      }
    },
    {
      "cell_type": "markdown",
      "source": [
        "6 Explain the concept of generators in Python and how they are defined.\n",
        "\n",
        "6\n",
        "Generators are a special kind of iterator that generate values on-the-fly (lazy evaluation) instead of storing them in memory. They are defined using:\n",
        "\n",
        "Generator functions (with yield instead of return).\n",
        "\n",
        "Generator expressions (similar to list comprehensions but with ()).\n",
        "\n",
        "**Example (Generator Function)**\n",
        "\n",
        "def count_up_to(n):\n",
        "    num = 1\n",
        "    while num <= n:\n",
        "        yield num  # Pauses here, resumes on next call\n",
        "        num += 1\n",
        "\n",
        "gen = count_up_to(3)\n",
        "print(next(gen))  # 1\n",
        "print(next(gen))  # 2\n",
        "\n",
        "\n",
        "**Example (Generator Expression)**\n",
        "\n",
        "\n",
        "squares = (x**2 for x in range(3))  # Lazy evaluation\n",
        "print(list(squares))  # [0, 1, 4]\n"
      ],
      "metadata": {
        "id": "DVw5TinJsZQB"
      }
    },
    {
      "cell_type": "markdown",
      "source": [
        "7 What are the advantages of using generators over regular functions?\n",
        "\n",
        "7 **Memory Efficiency**\n",
        "\n",
        "Generators produce items one at a time (lazy evaluation), while regular functions compute all values at once (e.g., range() vs. list).\n",
        "\n",
        "**Performance**\n",
        "\n",
        "Avoids storing large datasets in memory (useful for streams, large files).\n",
        "\n",
        "**Infinite Sequences**\n",
        "\n",
        "Can represent infinite streams (e.g., Fibonacci sequence).\n",
        "\n",
        "**Cleaner Code**\n",
        "\n",
        "Simplifies iteration logic compared to manual iterator classes."
      ],
      "metadata": {
        "id": "w-lbf4Noxtjy"
      }
    },
    {
      "cell_type": "markdown",
      "source": [
        "8 What is a lambda function in Python, and when is it typically used?\n",
        "\n",
        "8 A lambda function is an anonymous, single-expression function defined using\n",
        "\n",
        "*lambda args:expression*\n",
        "\n",
        "**When to Use**\n",
        "Short, one-time operations (e.g., inside map(), filter(), sorted()).\n",
        "\n",
        "When a full def function is unnecessary.\n",
        "\n",
        "**Example**\n",
        "\n",
        "square = lambda x: x ** 2\n",
        "print(square(5))  # 25\n",
        "\n",
        "# Used in `sorted()` for custom sorting:\n",
        "names = [\"Alice\", \"Bob\", \"Charlie\"]\n",
        "sorted_names = sorted(names, key=lambda x: len(x))  # Sort by length\n"
      ],
      "metadata": {
        "id": "aLhLoxcHyd7n"
      }
    },
    {
      "cell_type": "markdown",
      "source": [
        "9 Explain the purpose and usage of the map() function in Python.\n",
        "\n",
        "9 **Purpose**\n",
        "\n",
        "Applies a function to every item in an iterable (e.g., list, tuple) and returns an iterator.\n",
        "\n",
        "Syntax\n",
        "\n",
        "map(function, iterable)\n",
        "\n",
        "**Example**\n",
        "\n",
        "numbers = [1, 2, 3]\n",
        "squared = map(lambda x: x**2, numbers)\n",
        "print(list(squared))  # [1, 4, 9]\n",
        "\n",
        "Use Case\n",
        "\n",
        "Transform data without explicit loops (functional programming style)."
      ],
      "metadata": {
        "id": "HVKIWYtByiY6"
      }
    },
    {
      "cell_type": "markdown",
      "source": [
        "10 What is the difference between `map()`, `reduce()`, and `filter()` functions in Python?\n",
        "\n",
        "10 In Python, map(), filter(), and reduce() are higher-order functions used for processing iterables, but they serve different purposes.\n",
        "\n",
        "map() applies a given function to every item in an iterable and returns an iterator of the results. For example, map(lambda x: x*2, [1, 2, 3]) produces [2, 4, 6], doubling each element.\n",
        "\n",
        "filter() selects items from an iterable based on a condition (a function that returns True or False). For instance, filter(lambda x: x > 2, [1, 2, 3]) returns [3], keeping only values greater than 2.\n",
        "\n",
        "reduce() (from the functools module) aggregates all items in an iterable into a single value by applying a cumulative function. For example, reduce(lambda a, b: a * b, [1, 2, 3, 4]) computes 1 * 2 * 3 * 4 = 24."
      ],
      "metadata": {
        "id": "cgTuurEm0a3V"
      }
    },
    {
      "cell_type": "markdown",
      "source": [
        "11 Using pen & Paper write the internal mechanism for sum operation using  reduce function on this given list:[47,11,42,13];\n",
        "\n",
        "11"
      ],
      "metadata": {
        "id": "9UBjefQO1DlE"
      }
    },
    {
      "cell_type": "markdown",
      "source": [
        "# **Practical Questions`**"
      ],
      "metadata": {
        "id": "rcLtLpqi1bJ5"
      }
    },
    {
      "cell_type": "code",
      "source": [
        "# 1 Write a Python function that takes a list of numbers as input and returns the sum of all even numbers in the list.\n",
        "\n",
        "def sum_even_numbers(numbers):\n",
        "    return sum(num for num in numbers if num % 2 == 0)\n",
        "\n",
        "# Example usage:\n",
        "print(sum_even_numbers([1, 2, 3, 4, 5, 6]))  # Output: 12\n"
      ],
      "metadata": {
        "colab": {
          "base_uri": "https://localhost:8080/"
        },
        "id": "Qeb2AtfyDs_U",
        "outputId": "848673a5-acc4-4493-8189-f887d21bb12e"
      },
      "execution_count": null,
      "outputs": [
        {
          "output_type": "stream",
          "name": "stdout",
          "text": [
            "12\n"
          ]
        }
      ]
    },
    {
      "cell_type": "code",
      "source": [
        "# 2 Create a Python function that accepts a string and returns the reverse of that string.\n",
        "\n",
        "def reverse_string(s):\n",
        "    return s[::-1]\n",
        "\n",
        "# Example usage:\n",
        "print(reverse_string(\"hello\"))  # Output: \"olleh\""
      ],
      "metadata": {
        "colab": {
          "base_uri": "https://localhost:8080/"
        },
        "id": "9n6_e4xrDYbY",
        "outputId": "40486a4a-6829-4592-cb45-0a0473438845"
      },
      "execution_count": null,
      "outputs": [
        {
          "output_type": "stream",
          "name": "stdout",
          "text": [
            "olleh\n"
          ]
        }
      ]
    },
    {
      "cell_type": "code",
      "source": [
        "# 3 Implement a Python function that takes a list of integers and returns a new list containing the squares of each number.\n",
        "\n",
        "def square_numbers(numbers):\n",
        "    return [num**2 for num in numbers]\n",
        "\n",
        "# Example usage:\n",
        "print(square_numbers([1, 2, 3, 4]))  # Output: [1, 4, 9, 16]"
      ],
      "metadata": {
        "colab": {
          "base_uri": "https://localhost:8080/"
        },
        "id": "7m4R5SUUDH26",
        "outputId": "dbce8076-6d76-4775-b07f-8e066c3de5d6"
      },
      "execution_count": null,
      "outputs": [
        {
          "output_type": "stream",
          "name": "stdout",
          "text": [
            "[1, 4, 9, 16]\n"
          ]
        }
      ]
    },
    {
      "cell_type": "code",
      "source": [
        "# 4 Write a Python function that checks if a given number is prime or not from 1 to 200.\n",
        "\n",
        "def is_prime(n):\n",
        "    if n <= 1:\n",
        "        return False\n",
        "    for i in range(2, int(n**0.5) + 1):\n",
        "        if n % i == 0:\n",
        "            return False\n",
        "    return True\n",
        "\n",
        "def primes_up_to_200():\n",
        "    return [num for num in range(1, 201) if is_prime(num)]\n",
        "\n",
        "# Example usage:\n",
        "print(primes_up_to_200())\n"
      ],
      "metadata": {
        "colab": {
          "base_uri": "https://localhost:8080/"
        },
        "id": "jN_nCsKDC8of",
        "outputId": "40371da5-4835-4713-cebc-a62fd04b2580"
      },
      "execution_count": null,
      "outputs": [
        {
          "output_type": "stream",
          "name": "stdout",
          "text": [
            "[2, 3, 5, 7, 11, 13, 17, 19, 23, 29, 31, 37, 41, 43, 47, 53, 59, 61, 67, 71, 73, 79, 83, 89, 97, 101, 103, 107, 109, 113, 127, 131, 137, 139, 149, 151, 157, 163, 167, 173, 179, 181, 191, 193, 197, 199]\n"
          ]
        }
      ]
    },
    {
      "cell_type": "code",
      "source": [
        "# 5 Create an iterator class in Python that generates the Fibonacci sequence up to a specified number of terms.\n",
        "\n",
        "class FibonacciIterator:\n",
        "    def __init__(self, max_terms):\n",
        "        self.max_terms = max_terms\n",
        "        self.a, self.b = 0, 1\n",
        "        self.count = 0\n",
        "\n",
        "    def __iter__(self):\n",
        "        return self\n",
        "\n",
        "    def __next__(self):\n",
        "        if self.count >= self.max_terms:\n",
        "            raise StopIteration\n",
        "        result = self.a\n",
        "        self.a, self.b = self.b, self.a + self.b\n",
        "        self.count += 1\n",
        "        return result\n",
        "\n",
        "# Example usage:\n",
        "fib = FibonacciIterator(10)\n",
        "print(list(fib))  # Output: [0, 1, 1, 2, 3, 5, 8, 13, 21, 34]\n"
      ],
      "metadata": {
        "colab": {
          "base_uri": "https://localhost:8080/"
        },
        "id": "2eWsLZA0Ce5p",
        "outputId": "d68988d9-1713-4b58-dca9-61f9a47a3248"
      },
      "execution_count": null,
      "outputs": [
        {
          "output_type": "stream",
          "name": "stdout",
          "text": [
            "[0, 1, 1, 2, 3, 5, 8, 13, 21, 34]\n"
          ]
        }
      ]
    },
    {
      "cell_type": "code",
      "source": [
        "# 6 Write a generator function in Python that yields the powers of 2 up to a given exponent.\n",
        "\n",
        "def powers_of_two(max_exp):\n",
        "    exp = 0\n",
        "    while exp <= max_exp:\n",
        "        yield 2 ** exp\n",
        "        exp += 1\n",
        "\n",
        "#Example usage\n",
        "print(list(powers_of_two(5)))  # Output: [1, 2, 4, 8, 16, 32]\n"
      ],
      "metadata": {
        "colab": {
          "base_uri": "https://localhost:8080/"
        },
        "id": "D1q4a8xMCRF_",
        "outputId": "5d599742-a969-4027-81f2-d552c4c626ca"
      },
      "execution_count": null,
      "outputs": [
        {
          "output_type": "stream",
          "name": "stdout",
          "text": [
            "[1, 2, 4, 8, 16, 32]\n"
          ]
        }
      ]
    },
    {
      "cell_type": "code",
      "source": [
        "def read_file_lines(filename):\n",
        "\n",
        "    with open(filename, 'r') as file:\n",
        "        for line in file:\n",
        "            yield line.strip()\n",
        "\n",
        "# Example usage:\n",
        "for line in read_file_lines('example.txt'):\n",
        "    print(line)\n"
      ],
      "metadata": {
        "colab": {
          "base_uri": "https://localhost:8080/"
        },
        "id": "PzpAhcSqBvZd",
        "outputId": "a91e0b60-f653-4c49-8b63-5881f907b977"
      },
      "execution_count": 9,
      "outputs": [
        {
          "output_type": "stream",
          "name": "stdout",
          "text": [
            "First line\n",
            "Second line\n",
            "Third line\n"
          ]
        }
      ]
    },
    {
      "cell_type": "code",
      "source": [
        "# 8 Use a lambda function in Python to sort a list of tuples based on the second element of each tuple.\n",
        "\n",
        "tuples_list = [(1, 3), (2, 1), (3, 2)]\n",
        "sorted_list = sorted(tuples_list, key=lambda x: x[1])\n",
        "\n",
        "# Example usage:\n",
        "print(sorted_list)  # Output: [(2, 1), (3, 2), (1, 3)]"
      ],
      "metadata": {
        "colab": {
          "base_uri": "https://localhost:8080/"
        },
        "id": "xxXJtuNLBebG",
        "outputId": "ff3b17b4-9c89-44c2-e5dd-c15239568620"
      },
      "execution_count": null,
      "outputs": [
        {
          "output_type": "stream",
          "name": "stdout",
          "text": [
            "[(2, 1), (3, 2), (1, 3)]\n"
          ]
        }
      ]
    },
    {
      "cell_type": "code",
      "source": [
        "# 9 Write a Python program that uses `map()` to convert a list of temperatures from Celsius to Fahrenheit.\n",
        "\n",
        "celsius_temps = [0, 10, 20, 30, 40]\n",
        "fahrenheit_temps = list(map(lambda c: (9/5) * c + 32, celsius_temps))\n",
        "\n",
        "# Example usage:\n",
        "print(fahrenheit_temps)  # Output: [32.0, 50.0, 68.0, 86.0, 104.0]"
      ],
      "metadata": {
        "colab": {
          "base_uri": "https://localhost:8080/"
        },
        "id": "yAXm8OYMBH6n",
        "outputId": "2e692c79-1685-4634-aae5-4d424335fc05"
      },
      "execution_count": null,
      "outputs": [
        {
          "output_type": "stream",
          "name": "stdout",
          "text": [
            "[32.0, 50.0, 68.0, 86.0, 104.0]\n"
          ]
        }
      ]
    },
    {
      "cell_type": "code",
      "source": [
        "# 10 Create a Python program that uses `filter() to remove all the vowels from a given string.\n",
        "\n",
        "def remove_vowels(s):\n",
        "    vowels = {'a', 'e', 'i', 'o', 'u', 'A', 'E', 'I', 'O', 'U'}\n",
        "    return ''.join(filter(lambda char: char not in vowels, s))\n",
        "\n",
        "# Example usage:\n",
        "print(remove_vowels(\"Hello World\"))  # Output: \"Hll Wrld\""
      ],
      "metadata": {
        "colab": {
          "base_uri": "https://localhost:8080/"
        },
        "id": "kEil-5UOAw_y",
        "outputId": "effe35c1-6ec9-49e0-d2a8-3c12ef03e56f"
      },
      "execution_count": null,
      "outputs": [
        {
          "output_type": "stream",
          "name": "stdout",
          "text": [
            "Hll Wrld\n"
          ]
        }
      ]
    },
    {
      "cell_type": "code",
      "source": [
        "\"\"\" # 11 Imagine an accounting routine used in a book shop. It works on a list with sublists, which look like this:\n",
        "\n",
        "Write a Python program, which returns a list with 2-tuples. Each tuple consists of the order number and the\n",
        "product of the price per item and the quantity. The product should be increased by 10,- € if the value of the\n",
        "order is smaller than 100,00 €.\n",
        "\n",
        "Write a Python program using lambda and map\"\"\"\n",
        "\n",
        "\n",
        "# List of orders: [Order Number, Book Title, Quantity, Price per Item]\n",
        "orders = [\n",
        "    [34587, \"Learning Python, Mark Lutz\", 4, 40.95],\n",
        "    [98762, \"Programming Python, Mark Lutz\", 5, 56.80],\n",
        "    [77226, \"Head First Python, Paul Barry\", 3, 32.95],\n",
        "    [88112, \"Einführung in Python3, Bernd Klein\", 3, 24.99]\n",
        "]\n",
        "\n",
        "# Calculate final amount per order using map and lambda\n",
        "invoice = list(map(\n",
        "    lambda order: (\n",
        "        order[0],\n",
        "        round(order[2] * order[3] + (10 if order[2] * order[3] < 100 else 0), 2)\n",
        "    ),\n",
        "    orders\n",
        "))\n",
        "\n",
        "# Output result\n",
        "print(invoice)\n"
      ],
      "metadata": {
        "id": "ipliIWwGERfS",
        "colab": {
          "base_uri": "https://localhost:8080/"
        },
        "outputId": "c54828b6-f5e6-438e-ddb5-05084e78cbd2"
      },
      "execution_count": 1,
      "outputs": [
        {
          "output_type": "stream",
          "name": "stdout",
          "text": [
            "[(34587, 163.8), (98762, 284.0), (77226, 108.85), (88112, 84.97)]\n"
          ]
        }
      ]
    }
  ]
}