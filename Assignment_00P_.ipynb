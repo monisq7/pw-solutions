{
  "cells": [
    {
      "cell_type": "markdown",
      "metadata": {
        "id": "6bDoL6-U2SjK"
      },
      "source": [
        "**Theory Questions **"
      ]
    },
    {
      "cell_type": "markdown",
      "source": [
        "Q1: What is Object-Oriented Programming (OOP)?\n",
        "\n",
        "A: OOP is a paradigm that organizes code into objects (instances of classes) that encapsulate data (attributes) and behavior (methods). Key principles:\n",
        "\n",
        "Encapsulation\n",
        "\n",
        "Inheritance\n",
        "\n",
        "Polymorphism\n",
        "\n",
        "Abstraction"
      ],
      "metadata": {
        "id": "dRAXELJ_3zcD"
      }
    },
    {
      "cell_type": "markdown",
      "source": [
        "Q2: What is a class in OOP?\n",
        "\n",
        "A: A class is a blueprint for creating objects. It defines:\n",
        "\n",
        "Attributes (data)\n",
        "\n",
        "Methods (functions)\n",
        "\n",
        "example\n",
        "\n",
        "class Dog:\n",
        "    def __init__(self, name):\n",
        "        self.name = name  # Attribute\n",
        "    def bark(self):       # Method\n",
        "        print(\"Woof!\")\n",
        "\n"
      ],
      "metadata": {
        "id": "HbSwRgjB4Qw2"
      }
    },
    {
      "cell_type": "markdown",
      "source": [
        "Q3: What is an object in OOP?\n",
        "\n",
        "A: An object is an instance of a class.\n",
        "\n",
        "example\n",
        "\n",
        "my_dog = Dog(\"Buddy\")  # 'my_dog' is an object of class 'Dog'\n"
      ],
      "metadata": {
        "id": "-Dr9MIzB6__4"
      }
    },
    {
      "cell_type": "markdown",
      "source": [
        "Q4: Difference between abstraction and encapsulation?\n",
        "\n",
        "\n",
        "A:\n",
        "\n",
        "Abstraction: Hiding complex details, showing only essentials (e.g., using abstract classes).\n",
        "\n",
        "Encapsulation: Bundling data and methods, restricting direct access (e.g., private variables with _ or __).\n"
      ],
      "metadata": {
        "id": "ZetFGNiO7Nxw"
      }
    },
    {
      "cell_type": "markdown",
      "source": [
        "Q5 What are dunder methods in Python?\n",
        "\n",
        "A: Dunder (double underscore) methods are special methods prefixed and suffixed with __ that Python calls automatically in specific situations. They enable operator overloading and object customization.\n",
        "\n",
        "Common Examples:\n",
        "\n",
        "__init__: Constructor (called when an object is created)\n",
        "\n",
        "__str__: Human-readable string representation (print(obj))\n",
        "\n",
        "__repr__: Unambiguous string representation (debugging/REPL)\n",
        "\n",
        "__add__: Overloads + operator\n",
        "\n",
        "\n",
        "\n",
        "\n"
      ],
      "metadata": {
        "id": "hnxA8sSk8ACg"
      }
    },
    {
      "cell_type": "markdown",
      "source": [
        "Q6 Explain inheritance in OOP.\n",
        "\n",
        "A: Inheritance allows a child class (subclass) to inherit attributes and methods from a parent class (superclass), promoting code reuse.\n",
        "\n",
        "Key Points:\n",
        "\n",
        "Single Inheritance: One parent class.\n",
        "\n",
        "Multiple Inheritance: Multiple parent classes (Python supports this).\n",
        "\n",
        "Method Overriding: Child class redefines a parent’s method."
      ],
      "metadata": {
        "id": "_s5NcpKH9GPx"
      }
    },
    {
      "cell_type": "markdown",
      "source": [
        "Q7 What is polymorphism in OOP?\n",
        "\n",
        "A: Polymorphism lets objects of different classes be treated as objects of a common superclass, enabling flexible code.\n",
        "\n",
        "Types:\n",
        "\n",
        "Method Overriding: Child class redefines a parent’s method.\n",
        "\n",
        "Duck Typing: Python’s dynamic typing (\"If it walks like a duck...\").\n",
        "\n"
      ],
      "metadata": {
        "id": "ann6ewsV89ck"
      }
    },
    {
      "cell_type": "markdown",
      "source": [
        "Q8 How is encapsulation achieved in Python?\n",
        "\n",
        "A: Encapsulation bundles data and methods while restricting direct access. Python uses naming conventions (not strict enforcement):\n",
        "\n",
        "Public: No prefix (e.g., name).\n",
        "\n",
        "Protected: Single _ (e.g., _balance).\n",
        "\n",
        "Private: Double __ (e.g., __secret)."
      ],
      "metadata": {
        "id": "qaxJiFjy8VI6"
      }
    },
    {
      "cell_type": "markdown",
      "source": [
        "Q9 What is a constructor in Python?\n",
        "\n",
        "A: The __init__ method initializes an object’s state when created. It’s automatically called during object instantiation.\n",
        "\n",
        "Example:\n",
        "\n",
        "class Person:\n",
        "    def __init__(self, name, age):\n",
        "        self.name = name\n",
        "        self.age = age\n",
        "\n",
        "person = Person(\"Alice\", 25)  # Calls __init__\n",
        "print(person.name)  # Output: Alice"
      ],
      "metadata": {
        "id": "9gFORYJ79gZP"
      }
    },
    {
      "cell_type": "markdown",
      "source": [
        "\n",
        "Q10 What are class and static methods in Python?\n",
        "\n",
        "A:\n",
        "\n",
        "Class methods (marked with @classmethod) take the class (cls) as their first argument and are often used for factory methods or class-level operations. Static methods (marked with @staticmethod) don’t take self or cls and behave like regular functions but belong to the class’s namespace. For example, a Math class might use a static method for a utility function like add(a, b) and a class method to create instances from alternative data formats.\n",
        "\n"
      ],
      "metadata": {
        "id": "aimE38Ep9sB0"
      }
    },
    {
      "cell_type": "markdown",
      "source": [
        "Q11 What is an Method Overloading in python\n",
        "\n",
        "A\n",
        "\n",
        "Method overloading refers to defining multiple methods with the same name but different parameters in a class. Unlike languages like Java, Python does not support traditional method overloading (where methods differ by the number or type of arguments). Instead, Python achieves similar functionality using:\n",
        "\n",
        "Default arguments\n",
        "\n",
        "Variable-length arguments (*args, **kwargs)\n",
        "\n",
        "Single method with conditional logic"
      ],
      "metadata": {
        "id": "pF7SzxRI-YlA"
      }
    },
    {
      "cell_type": "markdown",
      "source": [
        "Q12 What is an Method Overriding in OOP\n",
        "\n",
        "A\n",
        "\n",
        "Method overriding occurs when a child class redefines a method inherited from its parent class to provide specific behavior.\n",
        "\n",
        "Key Points:\n",
        "\n",
        "The method name and parameters must match the parent class.\n",
        "\n",
        "Used to modify or extend parent class functionality."
      ],
      "metadata": {
        "id": "OToQA33t-z3g"
      }
    },
    {
      "cell_type": "markdown",
      "source": [
        "Q13 What is an Property Decorator in Python\n",
        "\n",
        "A\n",
        "\n",
        "The @property decorator allows you to define methods that act like attributes, enabling controlled access to instance variables. It’s used to implement getters, setters, and deleters.\n",
        "\n"
      ],
      "metadata": {
        "id": "j4JvuJ8e-5S6"
      }
    },
    {
      "cell_type": "markdown",
      "source": [
        "Q14 Why Polymorphism is Important in OOP\n",
        "Polymorphism (\"many forms\") allows objects of different classes to be treated as objects of a common superclass, enabling:\n",
        "\n",
        "A:\n",
        "\n",
        "Code Flexibility: Write functions that work with multiple object types (e.g., animal.speak() works for Dog, Cat, etc.).\n",
        "\n",
        "Extensibility: Add new classes without modifying existing code (Open/Closed Principle).\n",
        "\n",
        "Simplified Interfaces: Hide complex details behind a uniform interface."
      ],
      "metadata": {
        "id": "__2TQoTs_Bk5"
      }
    },
    {
      "cell_type": "markdown",
      "source": [
        "Q15 What is an **Abstract** Class in Python\n",
        "\n",
        "A:\n",
        "\n",
        "An abstract class is a blueprint for other classes that cannot be instantiated itself. It defines abstract methods (unimplemented) that child classes must override."
      ],
      "metadata": {
        "id": "tqdXrroT_Dec"
      }
    },
    {
      "cell_type": "markdown",
      "source": [
        "Q16 What are the advantages of OOP\n",
        "\n",
        "A\n",
        "\n",
        "Advantages of OOP\n",
        "1. Modularity: Code is organized into reusable classes and objects.\n",
        "2. Reusability: Inheritance allows code reuse from parent classes.\n",
        "3. Encapsulation: Data and methods are bundled together, improving security.\n",
        "4. Polymorphism: Flexibility to use a single interface for different data types.\n",
        "5. Maintainability: Easier to debug and update due to clear structure.\n",
        "6. Scalability: New features can be added without breaking existing code."
      ],
      "metadata": {
        "id": "uQeiUZB-_hRE"
      }
    },
    {
      "cell_type": "markdown",
      "source": [
        " Q17 What is the difference between a class variable and an instance variable\n",
        "\n",
        "A:\n",
        "\n",
        " Class Variables vs. Instance Variables in Python (Paragraph Explanation)\n",
        "Class variables are shared across all instances of a class. They are defined inside the class but outside any methods and are accessed using the class name (e.g., ClassName.variable). Since they are shared, modifying a class variable affects all instances.\n",
        "\n",
        "Instance variables, on the other hand, are unique to each object. They are defined inside methods (typically __init__) using self.variable and store data specific to an instance. Changes to an instance variable only affect that particular object.\n",
        "\n",
        "For example, in a Car class, wheels = 4 (a class variable) would be the same for all cars, while self.color (an instance variable) could differ for each car object. Class variables are useful for constants or shared attributes, while instance variables store object-specific states.\n",
        "\n"
      ],
      "metadata": {
        "id": "6100Qa87AIOv"
      }
    },
    {
      "cell_type": "markdown",
      "source": [
        "Q18 What is multiple inheritance in Python\n",
        "\n",
        "A:\n",
        "\n",
        "Multiple Inheritance in Python\n",
        "Multiple inheritance allows a class to inherit from more than one parent class.\n",
        "\n",
        "Key Points:\n",
        "\n",
        "Child class gets methods/attributes from all parents.\n",
        "\n",
        "Method Resolution Order (MRO) determines which parent’s method is called first (use ClassName.__mro__ to check)."
      ],
      "metadata": {
        "id": "DdiDU4kHAP8b"
      }
    },
    {
      "cell_type": "markdown",
      "source": [
        "Q19 Explain the purpose of ‘’__str__’ and ‘__repr__’ ‘ methods in Python\n",
        "\n",
        "A:\n",
        "\n",
        "Purpose of __str__ and __repr__ in Python (Paragraph Explanation)\n",
        "The __str__ and __repr__ methods in Python serve distinct but complementary purposes for object representation.\n",
        "\n",
        "__str__ is designed for human-readable output, primarily used by print() and str(). It provides a user-friendly description of an object, making it ideal for end-users or logging. If __str__ is not defined, Python falls back to __repr__.\n",
        "\n",
        "__repr__, on the other hand, aims for unambiguous debugging output, used by the REPL and repr(). It should return a string that, when passed to eval(), could recreate the object (e.g., \"Person('Alice')\"). By convention, all classes should define __repr__ for clarity during development.\n",
        "\n",
        "For example:\n",
        "\n",
        "print(obj) → Uses __str__ (e.g., \"Person: Alice\").\n",
        "\n",
        "repr(obj) → Uses __repr__ (e.g., \"Person('Alice')\").\n",
        "\n",
        "While __str__ focuses on readability, __repr__ ensures precision for developers. Defining both improves code usability and debuggability.\n",
        "\n",
        "\n",
        "\n"
      ],
      "metadata": {
        "id": "wrIbFfRgAbqE"
      }
    },
    {
      "cell_type": "markdown",
      "source": [
        "Q20 What is the significance of the ‘super()’ function in Python\n",
        "\n",
        "A\n",
        "\n",
        "Significance of super()\n",
        "The super() function is used to:\n",
        "\n",
        "Call parent class methods (e.g., super().__init__() in child constructors).\n",
        "\n",
        "Resolve method conflicts in multiple inheritance (follows MRO)."
      ],
      "metadata": {
        "id": "i1S0S9jfAyQP"
      }
    },
    {
      "cell_type": "markdown",
      "source": [
        "Q21: What is the significance of the __del__ method in Python?\n",
        "\n",
        "A:\n",
        "The __del__ method is a destructor that gets called when an object is about to be destroyed (garbage-collected). It is used to perform cleanup tasks (e.g., closing files or releasing resources).\n",
        "\n",
        "Example:\n",
        "\n",
        "class TempFile:\n",
        "    def __init__(self, filename):\n",
        "        self.file = open(filename, 'w')\n",
        "\n",
        "    def __del__(self):\n",
        "        self.file.close()  # Cleanup before deletion\n",
        "        print(\"File closed\")\n",
        "\n",
        "obj = TempFile(\"temp.txt\")\n",
        "del obj  # Triggers __del__"
      ],
      "metadata": {
        "id": "ABYC6Z_xBp15"
      }
    },
    {
      "cell_type": "markdown",
      "source": [
        "Q22 What is the difference between @staticmethod and @classmethod in Python?\n",
        "\n",
        "A\n",
        "\n",
        "\n",
        "In Python, the key difference between @staticmethod and @classmethod lies in their relationship to the class and their typical use cases. A @staticmethod is essentially a regular function that happens to reside inside a class's namespace - it doesn't receive any automatic first argument (neither self nor cls) and cannot modify class or instance state. These are typically used for utility functions that are logically related to the class but don't need access to its internals, such as validation helpers or calculation utilities.\n",
        "\n",
        "On the other hand, a @classmethod receives the class itself (cls) as its first argument, giving it direct access to and control over class-level attributes and operations. This makes @classmethod ideal for factory methods that serve as alternative constructors, or for operations that need to work with class-wide state. A classic example is creating specialized instances of a class - like a Pizza.margherita() method that knows how to construct a margherita pizza with the proper ingredients."
      ],
      "metadata": {
        "id": "RV93CVM9CMtr"
      }
    },
    {
      "cell_type": "markdown",
      "source": [
        "Q23: How does polymorphism work in Python with inheritance?\n",
        "\n",
        "A:\n",
        "Polymorphism allows child classes to override parent class methods, enabling different behaviors under a common interface\n",
        "\n",
        "Example:\n",
        "\n",
        "class Animal:\n",
        "    def speak(self):\n",
        "        print(\"Animal sound\")\n",
        "\n",
        "class Dog(Animal):\n",
        "    def speak(self):  # Overrides parent method\n",
        "        print(\"Woof!\")\n",
        "\n",
        "def make_sound(animal):  # Accepts any Animal subclass\n",
        "    animal.speak()\n",
        "\n",
        "make_sound(Animal())  # Output: \"Animal sound\"\n",
        "make_sound(Dog())     # Output: \"Woof!\" (polymorphism)"
      ],
      "metadata": {
        "id": "p71IDvxgCQ8P"
      }
    },
    {
      "cell_type": "markdown",
      "source": [
        "Q24: What is method chaining in Python OOP?\n",
        "\n",
        "A:\n",
        "Method chaining lets you call multiple methods sequentially on an object by returning self from each method.\n",
        "\n",
        "Example:\n",
        "\n",
        "class Calculator:\n",
        "    def __init__(self, value=0):\n",
        "        self.value = value\n",
        "\n",
        "    def add(self, x):\n",
        "        self.value += x\n",
        "        return self  # Enables chaining\n",
        "\n",
        "    def multiply(self, x):\n",
        "        self.value *= x\n",
        "        return self\n",
        "\n",
        "result = Calculator(5).add(3).multiply(2).value  # 5 + 3 = 8 → 8 * 2 = 16\n",
        "print(result)  # Output: 16"
      ],
      "metadata": {
        "id": "Ccxkh6VOCc36"
      }
    },
    {
      "cell_type": "markdown",
      "source": [
        "Q25: What is the purpose of the __call__ method in Python?\n",
        "\n",
        "A:\n",
        "The __call__ method lets an object be called like a function. Useful for:\n",
        "\n",
        "Creating callable objects (e.g., stateful functions).\n",
        "\n",
        "Implementing decorators.\n",
        "\n",
        "Example:\n",
        "\n",
        "class Adder:\n",
        "    def __init__(self, x):\n",
        "        self.x = x\n",
        "\n",
        "    def __call__(self, y):\n",
        "        return self.x + y\n",
        "\n",
        "add5 = Adder(5)  # Creates a callable object\n",
        "print(add5(3))   # Output: 8 (equivalent to add5.__call__(3))\n"
      ],
      "metadata": {
        "id": "m4rcNqRJCj-e"
      }
    },
    {
      "cell_type": "markdown",
      "source": [
        "**Practical Questions**"
      ],
      "metadata": {
        "id": "1YobqxR7EIHq"
      }
    },
    {
      "cell_type": "code",
      "source": [
        "# 1. Create a parent class Animal with a method speak() that prints a generic message. Create a child class Dog that overrides the speak() method to print \"Bark!\".\n",
        "\n",
        "\n",
        "class Animal:\n",
        "    def speak(self):\n",
        "        print(\"Animal makes a sound\")\n",
        "\n",
        "class Dog(Animal):\n",
        "    def speak(self):\n",
        "        print(\"Bark!\")\n",
        "\n",
        "# Usage\n",
        "animal = Animal()\n",
        "animal.speak()  # Output: Animal makes a sound\n",
        "\n",
        "dog = Dog()\n",
        "dog.speak()     # Output: Bark!"
      ],
      "metadata": {
        "colab": {
          "base_uri": "https://localhost:8080/"
        },
        "id": "3HvbBll_6Nao",
        "outputId": "13d45668-7b0d-4faf-d99d-3d268803be7e"
      },
      "execution_count": 7,
      "outputs": [
        {
          "output_type": "stream",
          "name": "stdout",
          "text": [
            "Animal makes a sound\n",
            "Bark!\n"
          ]
        }
      ]
    },
    {
      "cell_type": "code",
      "source": [
        "\n",
        "# Write a program to create an abstract class Shape with a method area(). Derive classes Circle and Rectangle from it and implement the area() method in both.\n",
        "\n",
        "from abc import ABC, abstractmethod\n",
        "\n",
        "class Shape(ABC):\n",
        "    @abstractmethod\n",
        "    def area(self):\n",
        "        pass\n",
        "\n",
        "class Circle(Shape):\n",
        "    def __init__(self, radius):\n",
        "        self.radius = radius\n",
        "\n",
        "    def area(self):\n",
        "        return 3.14 * self.radius ** 2\n",
        "\n",
        "class Rectangle(Shape):\n",
        "    def __init__(self, length, width):\n",
        "        self.length = length\n",
        "        self.width = width\n",
        "\n",
        "    def area(self):\n",
        "        return self.length * self.width\n",
        "\n",
        "# Usage\n",
        "circle = Circle(5)\n",
        "print(\"Circle area:\", circle.area())  # Output: 78.5\n",
        "\n",
        "rectangle = Rectangle(4, 6)\n",
        "print(\"Rectangle area:\", rectangle.area())  # Output: 24"
      ],
      "metadata": {
        "colab": {
          "base_uri": "https://localhost:8080/"
        },
        "id": "xCjpxt2d6kuE",
        "outputId": "5c7b6196-0f2b-4600-925b-b58c611844c6"
      },
      "execution_count": 8,
      "outputs": [
        {
          "output_type": "stream",
          "name": "stdout",
          "text": [
            "Circle area: 78.5\n",
            "Rectangle area: 24\n"
          ]
        }
      ]
    },
    {
      "cell_type": "code",
      "source": [
        "# 3. Implement a multi-level inheritance scenario where a class Vehicle has an attribute type. Derive a class Car and further derive a class ElectricCar that adds a battery attribute.\n",
        "\n",
        "class Vehicle:\n",
        "    def __init__(self, type):\n",
        "        self.type = type\n",
        "\n",
        "class Car(Vehicle):\n",
        "    def __init__(self, type, model):\n",
        "        super().__init__(type)\n",
        "        self.model = model\n",
        "\n",
        "class ElectricCar(Car):\n",
        "    def __init__(self, type, model, battery):\n",
        "        super().__init__(type, model)\n",
        "        self.battery = battery\n",
        "\n",
        "# Usage\n",
        "ev = ElectricCar(\"Electric\", \"Model S\", \"100kWh\")\n",
        "print(f\"Type: {ev.type}, Model: {ev.model}, Battery: {ev.battery}\")\n",
        "# Output: Type: Electric, Model: Model S, Battery: 100kWh"
      ],
      "metadata": {
        "colab": {
          "base_uri": "https://localhost:8080/"
        },
        "id": "EH2dKVX6FBcS",
        "outputId": "4f5b40b4-0fba-4361-e426-f3f0d9ad1238"
      },
      "execution_count": 9,
      "outputs": [
        {
          "output_type": "stream",
          "name": "stdout",
          "text": [
            "Type: Electric, Model: Model S, Battery: 100kWh\n"
          ]
        }
      ]
    },
    {
      "cell_type": "code",
      "source": [
        "# 4. Demonstrate polymorphism by creating a base class Bird with a method fly(). Create two derived classes Sparrow and Penguin that override the fly() method.\n",
        "\n",
        "class Bird:\n",
        "    def fly(self):\n",
        "        print(\"Bird can fly\")\n",
        "\n",
        "class Sparrow(Bird):\n",
        "    def fly(self):\n",
        "        print(\"Sparrow flies fast\")\n",
        "\n",
        "class Penguin(Bird):\n",
        "    def fly(self):\n",
        "        print(\"Penguin cannot fly\")\n",
        "\n",
        "# Usage\n",
        "def test_flight(bird):\n",
        "    bird.fly()\n",
        "\n",
        "birds = [Bird(), Sparrow(), Penguin()]\n",
        "for bird in birds:\n",
        "    test_flight(bird)\n",
        "# Output:\n",
        "# Bird can fly\n",
        "# Sparrow flies fast\n",
        "# Penguin cannot fly"
      ],
      "metadata": {
        "colab": {
          "base_uri": "https://localhost:8080/"
        },
        "id": "0s0GfSbWFFuB",
        "outputId": "0218bed0-d361-429e-eb8a-a4277153359f"
      },
      "execution_count": 10,
      "outputs": [
        {
          "output_type": "stream",
          "name": "stdout",
          "text": [
            "Bird can fly\n",
            "Sparrow flies fast\n",
            "Penguin cannot fly\n"
          ]
        }
      ]
    },
    {
      "cell_type": "code",
      "source": [
        "# 5. Write a program to demonstrate encapsulation by creating a class BankAccount with private attributes balance and methods to deposit, withdraw, and check balance.\n",
        "\n",
        "\n",
        "class BankAccount:\n",
        "    def __init__(self):\n",
        "        self.__balance = 0  # Private attribute\n",
        "\n",
        "    def deposit(self, amount):\n",
        "        if amount > 0:\n",
        "            self.__balance += amount\n",
        "            print(f\"Deposited {amount}. New balance: {self.__balance}\")\n",
        "        else:\n",
        "            print(\"Invalid deposit amount\")\n",
        "\n",
        "    def withdraw(self, amount):\n",
        "        if 0 < amount <= self.__balance:\n",
        "            self.__balance -= amount\n",
        "            print(f\"Withdrew {amount}. New balance: {self.__balance}\")\n",
        "        else:\n",
        "            print(\"Invalid withdrawal amount\")\n",
        "\n",
        "    def check_balance(self):\n",
        "        print(f\"Current balance: {self.__balance}\")\n",
        "\n",
        "# Usage\n",
        "account = BankAccount()\n",
        "account.deposit(1000)    # Deposited 1000. New balance: 1000\n",
        "account.withdraw(500)    # Withdrew 500. New balance: 500\n",
        "account.check_balance()  # Current balance: 500\n",
        "# account.__balance      # Error: AttributeError (private member)"
      ],
      "metadata": {
        "colab": {
          "base_uri": "https://localhost:8080/"
        },
        "id": "PQbYFWa-FIRI",
        "outputId": "4988a012-86d9-4c49-d35c-81594596ef04"
      },
      "execution_count": 11,
      "outputs": [
        {
          "output_type": "stream",
          "name": "stdout",
          "text": [
            "Deposited 1000. New balance: 1000\n",
            "Withdrew 500. New balance: 500\n",
            "Current balance: 500\n"
          ]
        }
      ]
    },
    {
      "cell_type": "code",
      "source": [
        "# 6. Demonstrate runtime polymorphism using a method play() in a base class Instrument. Derive classes Guitar and Piano that implement their own version of play().\n",
        "\n",
        "class Instrument:\n",
        "    def play(self):\n",
        "        print(\"Instrument plays a sound\")\n",
        "\n",
        "class Guitar(Instrument):\n",
        "    def play(self):\n",
        "        print(\"Guitar strums chords\")\n",
        "\n",
        "class Piano(Instrument):\n",
        "    def play(self):\n",
        "        print(\"Piano plays keys\")\n",
        "\n",
        "# Usage\n",
        "def perform(instrument: Instrument):\n",
        "    instrument.play()\n",
        "\n",
        "instruments = [Instrument(), Guitar(), Piano()]\n",
        "for instrument in instruments:\n",
        "    perform(instrument)\n",
        "# Output:\n",
        "# Instrument plays a sound\n",
        "# Guitar strums chords\n",
        "# Piano plays keys"
      ],
      "metadata": {
        "colab": {
          "base_uri": "https://localhost:8080/"
        },
        "id": "A4-t1oI0FLGY",
        "outputId": "6e2862f6-86f9-43a3-da1f-78e8d8507e9b"
      },
      "execution_count": 12,
      "outputs": [
        {
          "output_type": "stream",
          "name": "stdout",
          "text": [
            "Instrument plays a sound\n",
            "Guitar strums chords\n",
            "Piano plays keys\n"
          ]
        }
      ]
    },
    {
      "cell_type": "code",
      "source": [
        "# 7. Create a class MathOperations with a class method add_numbers() to add two numbers and a static method subtract_numbers() to subtract two numbers.\n",
        "\n",
        "class MathOperations:\n",
        "    @classmethod\n",
        "    def add_numbers(cls, a, b):\n",
        "        return a + b\n",
        "\n",
        "    @staticmethod\n",
        "    def subtract_numbers(a, b):\n",
        "        return a - b\n",
        "\n",
        "# Usage\n",
        "print(MathOperations.add_numbers(5, 3))      # Output: 8\n",
        "print(MathOperations.subtract_numbers(5, 3)) # Output: 2"
      ],
      "metadata": {
        "colab": {
          "base_uri": "https://localhost:8080/"
        },
        "id": "qjOg0UfbGHNi",
        "outputId": "4d8a6c7e-696c-4563-f9f3-bcb63c79ce2c"
      },
      "execution_count": 13,
      "outputs": [
        {
          "output_type": "stream",
          "name": "stdout",
          "text": [
            "8\n",
            "2\n"
          ]
        }
      ]
    },
    {
      "cell_type": "code",
      "source": [
        "# 8. Implement a class Person with a class method to count the total number of persons created.\n",
        "\n",
        "class Person:\n",
        "    _count = 0\n",
        "\n",
        "    def __init__(self, name):\n",
        "        self.name = name\n",
        "        Person._count += 1\n",
        "\n",
        "    @classmethod\n",
        "    def get_count(cls):\n",
        "        return cls._count\n",
        "\n",
        "# Usage\n",
        "p1 = Person(\"Alice\")\n",
        "p2 = Person(\"Bob\")\n",
        "print(Person.get_count())  # Output: 2"
      ],
      "metadata": {
        "colab": {
          "base_uri": "https://localhost:8080/"
        },
        "id": "ktZDZ58MGYT8",
        "outputId": "13f7ee21-7a62-4a29-eae5-623dab895e8b"
      },
      "execution_count": 14,
      "outputs": [
        {
          "output_type": "stream",
          "name": "stdout",
          "text": [
            "2\n"
          ]
        }
      ]
    },
    {
      "cell_type": "code",
      "source": [
        "# 9. Write a class Fraction with attributes numerator and denominator. Override the str method to display the fraction as \"numerator/denominator\".\n",
        "\n",
        "class Fraction:\n",
        "    def __init__(self, numerator, denominator):\n",
        "        self.numerator = numerator\n",
        "        self.denominator = denominator\n",
        "\n",
        "    def __str__(self):\n",
        "        return f\"{self.numerator}/{self.denominator}\"\n",
        "\n",
        "# Usage\n",
        "f = Fraction(3, 4)\n",
        "print(f)  # Output: 3/4"
      ],
      "metadata": {
        "colab": {
          "base_uri": "https://localhost:8080/"
        },
        "id": "MggujZKKGg_j",
        "outputId": "c5a48e3b-5d5a-4728-d19b-1d908e2af0b8"
      },
      "execution_count": 15,
      "outputs": [
        {
          "output_type": "stream",
          "name": "stdout",
          "text": [
            "3/4\n"
          ]
        }
      ]
    },
    {
      "cell_type": "code",
      "source": [
        "# 10. Demonstrate operator overloading by creating a class Vector and overriding the add method to add two vectors.\n",
        "\n",
        "class Vector:\n",
        "    def __init__(self, x, y):\n",
        "        self.x = x\n",
        "        self.y = y\n",
        "\n",
        "    def __add__(self, other):\n",
        "        return Vector(self.x + other.x, self.y + other.y)\n",
        "\n",
        "    def __str__(self):\n",
        "        return f\"Vector({self.x}, {self.y})\"\n",
        "\n",
        "# Usage\n",
        "v1 = Vector(2, 3)\n",
        "v2 = Vector(1, 4)\n",
        "print(v1 + v2)  # Output: Vector(3, 7)\n"
      ],
      "metadata": {
        "colab": {
          "base_uri": "https://localhost:8080/"
        },
        "id": "iwVsyWnhGq8n",
        "outputId": "662b9235-689a-4295-c1db-f95f2eca0804"
      },
      "execution_count": 16,
      "outputs": [
        {
          "output_type": "stream",
          "name": "stdout",
          "text": [
            "Vector(3, 7)\n"
          ]
        }
      ]
    },
    {
      "cell_type": "code",
      "source": [
        "# 11. Create a class Person with attributes name and age. Add a method greet() that prints \"Hello, my name is {name} and I am {age} years old.\"\n",
        "\n",
        "class Person:\n",
        "    def __init__(self, name, age):\n",
        "        self.name = name\n",
        "        self.age = age\n",
        "\n",
        "    def greet(self):\n",
        "        print(f\"Hello, my name is {self.name} and I am {self.age} years old.\")\n",
        "\n",
        "# Usage\n",
        "p = Person(\"Alice\", 25)\n",
        "p.greet()  # Output: Hello, my name is Alice and I am 25 years old."
      ],
      "metadata": {
        "colab": {
          "base_uri": "https://localhost:8080/"
        },
        "id": "-291sddZG10V",
        "outputId": "9aaeb205-0c28-477c-96be-2d20b55a2102"
      },
      "execution_count": 17,
      "outputs": [
        {
          "output_type": "stream",
          "name": "stdout",
          "text": [
            "Hello, my name is Alice and I am 25 years old.\n"
          ]
        }
      ]
    },
    {
      "cell_type": "code",
      "source": [
        "# 12. Implement a class Student with attributes name and grades. Create a method average_grade() to compute the average of the grades.\n",
        "\n",
        "class Student:\n",
        "    def __init__(self, name, grades):\n",
        "        self.name = name\n",
        "        self.grades = grades\n",
        "\n",
        "    def average_grade(self):\n",
        "        return sum(self.grades) / len(self.grades)\n",
        "\n",
        "# Usage\n",
        "s = Student(\"Bob\", [85, 90, 78, 92])\n",
        "print(s.average_grade())  # Output: 86.25"
      ],
      "metadata": {
        "colab": {
          "base_uri": "https://localhost:8080/"
        },
        "id": "RqmM9LNzHBEy",
        "outputId": "5703688b-47d7-4627-8bc7-983f05fa6055"
      },
      "execution_count": 18,
      "outputs": [
        {
          "output_type": "stream",
          "name": "stdout",
          "text": [
            "86.25\n"
          ]
        }
      ]
    },
    {
      "cell_type": "code",
      "source": [
        "# 13. Create a class Rectangle with methods set_dimensions() to set the dimensions and area() to calculate the area.\n",
        "\n",
        "class Rectangle:\n",
        "    def __init__(self):\n",
        "        self.length = 0\n",
        "        self.width = 0\n",
        "\n",
        "    def set_dimensions(self, length, width):\n",
        "        self.length = length\n",
        "        self.width = width\n",
        "\n",
        "    def area(self):\n",
        "        return self.length * self.width\n",
        "\n",
        "# Usage\n",
        "rect = Rectangle()\n",
        "rect.set_dimensions(5, 3)\n",
        "print(rect.area())  # Output: 15"
      ],
      "metadata": {
        "id": "Ir40Hy9zHO_k"
      },
      "execution_count": null,
      "outputs": []
    },
    {
      "cell_type": "code",
      "source": [
        "# 14. Create a class Employee with a method calculate_salary() that computes the salary based on hours worked and hourly rate. Create a derived class Manager that adds a bonus to the salary.\n",
        "\n",
        "class Employee:\n",
        "    def __init__(self, hours, rate):\n",
        "        self.hours = hours\n",
        "        self.rate = rate\n",
        "\n",
        "    def calculate_salary(self):\n",
        "        return self.hours * self.rate\n",
        "\n",
        "class Manager(Employee):\n",
        "    def __init__(self, hours, rate, bonus):\n",
        "        super().__init__(hours, rate)\n",
        "        self.bonus = bonus\n",
        "\n",
        "    def calculate_salary(self):\n",
        "        return super().calculate_salary() + self.bonus\n",
        "\n",
        "# Usage\n",
        "emp = Employee(40, 20)\n",
        "print(emp.calculate_salary())  # Output: 800\n",
        "\n",
        "mgr = Manager(40, 20, 500)\n",
        "print(mgr.calculate_salary())  # Output: 1300"
      ],
      "metadata": {
        "colab": {
          "base_uri": "https://localhost:8080/"
        },
        "id": "7kj7q-19HhOO",
        "outputId": "d7a71a47-da03-492f-a64c-cbfdd17c1c89"
      },
      "execution_count": 20,
      "outputs": [
        {
          "output_type": "stream",
          "name": "stdout",
          "text": [
            "800\n",
            "1300\n"
          ]
        }
      ]
    },
    {
      "cell_type": "markdown",
      "source": [],
      "metadata": {
        "id": "x9ZtLE1WHa-m"
      }
    },
    {
      "cell_type": "code",
      "source": [
        "# 15. Create a class Product with attributes name, price, and quantity. Implement a method total_price() that calculates the total price of the product.\n",
        "\n",
        "class Product:\n",
        "    def __init__(self, name, price, quantity):\n",
        "        self.name = name\n",
        "        self.price = price\n",
        "        self.quantity = quantity\n",
        "\n",
        "    def total_price(self):\n",
        "        return self.price * self.quantity\n",
        "\n",
        "# Usage\n",
        "p = Product(\"Laptop\", 999.99, 2)\n",
        "print(f\"Total price: ${p.total_price():.2f}\")  # Output: Total price: $1999.98"
      ],
      "metadata": {
        "colab": {
          "base_uri": "https://localhost:8080/"
        },
        "id": "CeQvSjNpIBTw",
        "outputId": "366d8efe-1f90-4fe5-b325-0148e1374dd9"
      },
      "execution_count": 21,
      "outputs": [
        {
          "output_type": "stream",
          "name": "stdout",
          "text": [
            "Total price: $1999.98\n"
          ]
        }
      ]
    },
    {
      "cell_type": "code",
      "source": [
        "# 16. Create a class Animal with an abstract method sound(). Create two derived classes Cow and Sheep that implement the sound() method.\n",
        "\n",
        "from abc import ABC, abstractmethod\n",
        "\n",
        "class Animal(ABC):\n",
        "    @abstractmethod\n",
        "    def sound(self):\n",
        "        pass\n",
        "\n",
        "class Cow(Animal):\n",
        "    def sound(self):\n",
        "        return \"Moo!\"\n",
        "\n",
        "class Sheep(Animal):\n",
        "    def sound(self):\n",
        "        return \"Baa!\"\n",
        "\n",
        "# Usage\n",
        "animals = [Cow(), Sheep()]\n",
        "for animal in animals:\n",
        "    print(animal.sound())\n",
        "# Output:\n",
        "# Moo!\n",
        "# Baa!"
      ],
      "metadata": {
        "colab": {
          "base_uri": "https://localhost:8080/"
        },
        "id": "1NIQIYnRIJ-8",
        "outputId": "0327b675-77ea-4ab0-9cda-67e40b94da03"
      },
      "execution_count": 22,
      "outputs": [
        {
          "output_type": "stream",
          "name": "stdout",
          "text": [
            "Moo!\n",
            "Baa!\n"
          ]
        }
      ]
    },
    {
      "cell_type": "code",
      "source": [
        "# 17. Create a class Book with attributes title, author, and year_published. Add a method get_book_info() that returns a formatted string with the book's details.\n",
        "\n",
        "class Book:\n",
        "    def __init__(self, title, author, year_published):\n",
        "        self.title = title\n",
        "        self.author = author\n",
        "        self.year_published = year_published\n",
        "\n",
        "    def get_book_info(self):\n",
        "        return f\"'{self.title}' by {self.author} ({self.year_published})\"\n",
        "\n",
        "# Usage\n",
        "book = Book(\"Python Crash Course\", \"Eric Matthes\", 2019)\n",
        "print(book.get_book_info())\n",
        "# Output: 'Python Crash Course' by Eric Matthes (2019)"
      ],
      "metadata": {
        "colab": {
          "base_uri": "https://localhost:8080/"
        },
        "id": "cSWG1_i-IRtH",
        "outputId": "21347cef-369e-4366-f014-4bfb8e88b2d1"
      },
      "execution_count": 23,
      "outputs": [
        {
          "output_type": "stream",
          "name": "stdout",
          "text": [
            "'Python Crash Course' by Eric Matthes (2019)\n"
          ]
        }
      ]
    },
    {
      "cell_type": "code",
      "source": [
        "# 18. Create a class House with attributes address and price. Create a derived class Mansion that adds an attribute number_of_rooms.\n",
        "\n",
        "class House:\n",
        "    def __init__(self, address, price):\n",
        "        self.address = address\n",
        "        self.price = price\n",
        "\n",
        "    def get_info(self):\n",
        "        return f\"Address: {self.address}, Price: ${self.price:,}\"\n",
        "\n",
        "class Mansion(House):\n",
        "    def __init__(self, address, price, number_of_rooms):\n",
        "        super().__init__(address, price)\n",
        "        self.number_of_rooms = number_of_rooms\n",
        "\n",
        "    def get_info(self):\n",
        "        return f\"{super().get_info()}, Rooms: {self.number_of_rooms}\"\n",
        "\n",
        "# Usage\n",
        "house = House(\"123 Main St\", 250000)\n",
        "print(house.get_info())  # Output: Address: 123 Main St, Price: $250,000\n",
        "\n",
        "mansion = Mansion(\"1 Billionaire Row\", 5000000, 12)\n",
        "print(mansion.get_info())\n",
        "# Output: Address: 1 Billionaire Row, Price: $5,000,000, Rooms: 12"
      ],
      "metadata": {
        "colab": {
          "base_uri": "https://localhost:8080/"
        },
        "id": "Z90TBRJ5IaLq",
        "outputId": "42dd7960-dc0d-4830-999e-2f414975f80a"
      },
      "execution_count": 24,
      "outputs": [
        {
          "output_type": "stream",
          "name": "stdout",
          "text": [
            "Address: 123 Main St, Price: $250,000\n",
            "Address: 1 Billionaire Row, Price: $5,000,000, Rooms: 12\n"
          ]
        }
      ]
    }
  ],
  "metadata": {
    "colab": {
      "provenance": []
    },
    "kernelspec": {
      "display_name": "Python 3",
      "name": "python3"
    },
    "language_info": {
      "name": "python"
    }
  },
  "nbformat": 4,
  "nbformat_minor": 0
}