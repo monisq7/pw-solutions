{
  "nbformat": 4,
  "nbformat_minor": 0,
  "metadata": {
    "colab": {
      "provenance": []
    },
    "kernelspec": {
      "name": "python3",
      "display_name": "Python 3"
    },
    "language_info": {
      "name": "python"
    }
  },
  "cells": [
    {
      "cell_type": "markdown",
      "source": [
        "Question 1: What is a random variable in probability theory?\n",
        "\n",
        "answer1 A random variable in probability theory is a function that assigns a numerical value to each possible outcome of a random experiment.\n",
        "\n",
        "It provides a way to quantify uncertainty by mapping outcomes from the sample space (the set of all possible outcomes) to real numbers.\n",
        "\n",
        "Random variables can be of two main types:\n",
        "\n",
        "Discrete Random Variable → takes on a finite or countable number of values (e.g., number of heads in 3 coin tosses).\n",
        "\n",
        "Continuous Random Variable → takes on values from an interval or continuum (e.g., height of students, time taken to finish a task)."
      ],
      "metadata": {
        "id": "3Gip-eEg0gka"
      }
    },
    {
      "cell_type": "markdown",
      "source": [
        "Question 2: What are the types of random variables?\n",
        "\n",
        "anaswer2 In probability theory, random variables are mainly classified into two types:\n",
        "\n",
        "1. Discrete Random Variable\n",
        "\n",
        "Takes countable values (finite or infinite but countable).\n",
        "\n",
        "Often associated with probabilities for each possible outcome.\n",
        "\n",
        "Described using a Probability Mass Function (PMF).\n",
        "\n",
        "\n",
        "\n",
        "2. Continuous Random Variable\n",
        "\n",
        "Takes uncountably infinite values, usually within an interval of real numbers.\n",
        "\n",
        "Probabilities are assigned over intervals, not exact points.\n",
        "\n",
        "Described using a Probability Density Function (PDF)."
      ],
      "metadata": {
        "id": "xtgDxMde1HCZ"
      }
    },
    {
      "cell_type": "markdown",
      "source": [
        "Question 3: Explain the difference between discrete and continuous distributions.\n",
        "\n",
        "answer3 A discrete distribution is the probability distribution of a random variable that can take on only a finite or countably infinite set of values. Each outcome has a specific probability assigned to it, and the sum of all probabilities equals one. The probabilities are described using a Probability Mass Function (PMF). For example, when rolling a fair die, the possible outcomes are {1,2,3,4,5,6}, and each has a probability of 1/6. The cumulative distribution function (CDF) of a discrete distribution increases in steps because probabilities are concentrated on distinct points. Common discrete distributions include the Binomial, Poisson, and Geometric distributions.\n",
        "\n",
        "On the other hand, a continuous distribution is associated with random variables that can take on any value within an interval of real numbers. Unlike discrete distributions, the probability of the variable taking an exact value is always zero; instead, probabilities are defined over intervals. These distributions are described by a Probability Density Function (PDF), where the probability of falling within a range is given by the area under the curve. For instance, the height of students or the time taken to complete a task can be modeled using continuous distributions. The CDF of a continuous distribution increases smoothly and continuously rather than in jumps. Well-known continuous distributions include the Normal, Exponential, and Uniform distributions."
      ],
      "metadata": {
        "id": "T1o3utiD1u6O"
      }
    },
    {
      "cell_type": "markdown",
      "source": [
        "Question 4: What is a binomial distribution, and how is it used in probability?\n",
        "\n",
        "answer4 A binomial distribution is a type of discrete probability distribution that describes the number of successes in a fixed number of independent Bernoulli trials (experiments with only two possible outcomes: success or failure). Each trial has the same probability of success (p) and probability of failure\n",
        "(1−p).\n",
        "\n",
        "Uses in probability:\n",
        "The binomial distribution is widely used in real-world problems where outcomes are binary (yes/no, success/failure, true/false). For example:\n",
        "\n",
        "Finding the probability of getting exactly 3 heads in 5 coin tosses.\n",
        "\n",
        "Estimating the likelihood of a certain number of defective items in a batch.\n",
        "\n",
        "Modeling pass/fail outcomes in quality control, surveys, or medical trials."
      ],
      "metadata": {
        "id": "gASPi37B2EVO"
      }
    },
    {
      "cell_type": "markdown",
      "source": [
        "Question 5: What is the standard normal distribution, and why is it important?\n",
        "\n",
        "answer5 The standard normal distribution is a special case of the normal distribution in which the mean (\n",
        "𝜇\n",
        "μ) is 0 and the standard deviation (\n",
        "𝜎\n",
        "σ) is 1. It is a continuous, bell-shaped probability distribution that is symmetric about the mean. The variable that follows this distribution is often denoted as\n",
        "𝑍\n",
        "Z, and is sometimes called the z-distribution.\n",
        "\n",
        "Why it is important:\n",
        "\n",
        "Foundation for statistics – Many natural and social phenomena (like heights, test scores, measurement errors) are approximately normally distributed.\n",
        "\n",
        "Standardization – Any normal distribution with mean\n",
        "𝜇\n",
        "μ and standard deviation\n",
        "𝜎\n",
        "σ can be converted into the standard normal distribution using the z-score transformation:\n",
        "\n",
        "𝑍\n",
        "=\n",
        "𝑋\n",
        "−\n",
        "𝜇\n",
        "𝜎\n",
        "Z=\n",
        "σ\n",
        "X−μ\n",
        "\t​\n",
        "\n",
        "\n",
        "This makes different datasets comparable.\n",
        "\n",
        "Probability calculations – Standard normal tables (z-tables) are widely used to calculate probabilities and critical values for hypothesis testing.\n",
        "\n",
        "Central Limit Theorem (CLT) – It plays a central role in inferential statistics, since sums or averages of large samples tend to follow the normal distribution, often approximated by the standard normal."
      ],
      "metadata": {
        "id": "3AWpilvV2mwX"
      }
    },
    {
      "cell_type": "markdown",
      "source": [
        "Question 6:The Central Limit Theorem (CLT) is one of the most important results in statistics. It states that if we take repeated random samples of sufficiently large size n from any population with a finite mean 𝜇 μ and finite variance σ 2 , then the sampling distribution of the sample mean will approach a normal distribution, regardless of the shape of the original population.\n",
        "\n",
        "Why it is critical:\n",
        "\n",
        "Foundation for inferential statistics – It allows us to make conclusions about population parameters using sample data.\n",
        "\n",
        "Normal approximation – Even if the population is not normal, the CLT ensures that the sample mean is approximately normal for large\n",
        "n.\n",
        "\n",
        "Hypothesis testing and confidence intervals – These rely on the assumption of normality, which is justified by the CLT.\n",
        "\n",
        "Real-world applications – Used in quality control, polling, risk management, and anywhere sampling is involved."
      ],
      "metadata": {
        "id": "XcnVzlSb3BEY"
      }
    },
    {
      "cell_type": "markdown",
      "source": [
        "Question 7: What is the significance of confidence intervals in statistical analysis?\n",
        "\n",
        "anaswer7 A confidence interval (CI) is a range of values, derived from sample data, that is likely to contain the true population parameter (such as the mean or proportion) with a specified level of confidence. Instead of giving just a single estimate, confidence intervals provide an interval estimate that reflects the uncertainty due to sampling variability.\n",
        "\n",
        "Significance in statistical analysis:\n",
        "\n",
        "Measures reliability of estimates – Confidence intervals show how precise a sample estimate is. A narrower interval means higher precision, while a wider interval indicates greater uncertainty.\n",
        "\n",
        "Accounts for sampling error – Since we rarely have access to the whole population, CIs adjust for the natural variability that occurs when using samples.\n",
        "\n",
        "Provides more information than point estimates – A single number (like a mean) does not reflect uncertainty, but a CI gives a range of plausible values for the population parameter.\n",
        "\n",
        "Used in decision-making – In research, business, and science, CIs help determine whether observed effects are statistically meaningful. For example, if a 95% CI for a treatment effect does not include zero, it suggests the effect is statistically significant."
      ],
      "metadata": {
        "id": "tdjwIm434Ka8"
      }
    },
    {
      "cell_type": "markdown",
      "source": [
        "Question 8: What is the concept of expected value in a probability distribution?\n",
        "\n",
        "answer8 The expected value of a probability distribution is the theoretical long-run average of a random variable if an experiment is repeated many times. It represents the center of the distribution and gives us an idea of what outcome we can “expect” on average. For a discrete random variable, the expected value is calculated by multiplying each possible outcome by its probability and then summing these products. For a continuous random variable, it is obtained through integration of the product of the variable and its probability density function. The expected value is widely used in statistics, economics, and decision-making because it reflects the overall average payoff or loss in uncertain situations. For example, the expected value of rolling a fair die is 3.5, meaning that over a large number of rolls, the average outcome tends toward 3.5 even though no single roll produces that value. Similarly, in gambling or investments, the expected value helps determine whether a strategy results in an average gain or loss over time."
      ],
      "metadata": {
        "id": "ZU1An_4z4hrD"
      }
    },
    {
      "cell_type": "markdown",
      "source": [],
      "metadata": {
        "id": "rLhtfKGJ4y5h"
      }
    },
    {
      "cell_type": "code",
      "source": [
        "# Question 9: Write a Python program to generate 1000 random numbers from a normaldistribution with mean = 50 and standard deviation = 5. Compute its mean and standard deviation using NumPy, and draw a histogram to visualize the distribution.\n",
        "\n",
        "import numpy as np\n",
        "import matplotlib.pyplot as plt\n",
        "\n",
        "# Generate 1000 random numbers from Normal Distribution (mean=50, std=5)\n",
        "data = np.random.normal(loc=50, scale=5, size=1000)\n",
        "\n",
        "# Compute mean and standard deviation\n",
        "mean = np.mean(data)\n",
        "std_dev = np.std(data)\n",
        "\n",
        "print(f\"Sample Mean: {mean:.2f}\")\n",
        "print(f\"Sample Standard Deviation: {std_dev:.2f}\")\n",
        "\n",
        "# Draw histogram\n",
        "plt.hist(data, bins=30, edgecolor='black', alpha=0.7)\n",
        "plt.title(\"Histogram of Normally Distributed Data (mean=50, std=5)\")\n",
        "plt.xlabel(\"Value\")\n",
        "plt.ylabel(\"Frequency\")\n",
        "plt.show()\n",
        "\n"
      ],
      "metadata": {
        "colab": {
          "base_uri": "https://localhost:8080/",
          "height": 508
        },
        "id": "EdL1RipB0aqm",
        "outputId": "73e52179-d3c9-46a5-a84e-1ec569e4469c"
      },
      "execution_count": 2,
      "outputs": [
        {
          "output_type": "stream",
          "name": "stdout",
          "text": [
            "Sample Mean: 50.19\n",
            "Sample Standard Deviation: 4.95\n"
          ]
        },
        {
          "output_type": "display_data",
          "data": {
            "text/plain": [
              "<Figure size 640x480 with 1 Axes>"
            ],
            "image/png": "[encoded data removed]"
          },
          "metadata": {}
        }
      ]
    },
    {
      "cell_type": "markdown",
      "source": [
        "'''Question 10: You are working as a data analyst for a retail company. The company has\n",
        "collected daily sales data for 2 years and wants you to identify the overall sales trend.\n",
        "daily_sales = [220, 245, 210, 265, 230, 250, 260, 275, 240, 255,\n",
        " 235, 260, 245, 250, 225, 270, 265, 255, 250, 260]\n",
        "● Explain how you would apply the Central Limit Theorem to estimate the average sales\n",
        "with a 95% confidence interval.\n",
        "● Write the Python code to compute the mean sales and its confidence interval.'''\n",
        "\n",
        "answer10 he company has a dataset of daily sales, and even though the actual distribution of sales may not be perfectly normal, the Central Limit Theorem (CLT) allows us to work with it effectively. The CLT states that if we take sufficiently large samples, the sampling distribution of the sample mean will approximate a normal distribution, regardless of the shape of the original data. This means that the sample mean can be used as a reliable estimate of the population mean. To quantify the uncertainty around this estimate, we can construct a 95% confidence interval (CI) for the average daily sales\n",
        "\n"
      ],
      "metadata": {
        "id": "cNFX3SQ26aCG"
      }
    },
    {
      "cell_type": "code",
      "source": [
        "import numpy as np\n",
        "import scipy.stats as stats\n",
        "\n",
        "# Daily sales data\n",
        "daily_sales = [220, 245, 210, 265, 230, 250, 260, 275, 240, 255,\n",
        "               235, 260, 245, 250, 225, 270, 265, 255, 250, 260]\n",
        "\n",
        "# Convert to NumPy array\n",
        "data = np.array(daily_sales)\n",
        "\n",
        "# Calculate sample mean and standard error\n",
        "mean_sales = np.mean(data)\n",
        "std_error = np.std(data, ddof=1) / np.sqrt(len(data))\n",
        "\n",
        "# 95% confidence interval using z-value (1.96)\n",
        "z_value = 1.96\n",
        "ci_lower = mean_sales - z_value * std_error\n",
        "ci_upper = mean_sales + z_value * std_error\n",
        "\n",
        "print(f\"Mean Daily Sales: {mean_sales:.2f}\")\n",
        "print(f\"95% Confidence Interval: ({ci_lower:.2f}, {ci_upper:.2f})\")\n"
      ],
      "metadata": {
        "colab": {
          "base_uri": "https://localhost:8080/"
        },
        "id": "twjURdwr6ujD",
        "outputId": "ff776002-0b26-482d-bb83-f65b3ce3c771"
      },
      "execution_count": 3,
      "outputs": [
        {
          "output_type": "stream",
          "name": "stdout",
          "text": [
            "Mean Daily Sales: 248.25\n",
            "95% Confidence Interval: (240.68, 255.82)\n"
          ]
        }
      ]
    },
    {
      "cell_type": "code",
      "source": [
        "\n"
      ],
      "metadata": {
        "id": "tSYsLbvX5lPn"
      },
      "execution_count": null,
      "outputs": []
    }
  ]
}